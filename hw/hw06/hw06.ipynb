{
 "cells": [
  {
   "cell_type": "code",
   "execution_count": 44,
   "id": "e85f61ea",
   "metadata": {
    "deletable": false,
    "editable": false
   },
   "outputs": [],
   "source": [
    "# Initialize Otter\n",
    "import otter\n",
    "grader = otter.Notebook(\"hw06.ipynb\")"
   ]
  },
  {
   "cell_type": "markdown",
   "id": "80ea0fbe",
   "metadata": {},
   "source": [
    "<img src=\"data8logo.png\" alt=\"Data 8 Logo\" style=\"width: 15%; float: right; padding: 1%; margin-right: 2%;\"/>\n",
    "\n",
    "# Homework 6: Probability, Simulation, Estimation, and Assessing Models\n",
    "\n",
    "Please complete this notebook by filling in the cells provided. Before you begin, execute the previous cell to load the provided tests.\n",
    "\n",
    "**Helpful Resource:**\n",
    "- [Python Reference](http://data8.org/fa24/reference/): Cheat sheet of helpful array & table methods used in Data 8!\n",
    "- [Sampling Methods Guide](https://drive.google.com/file/d/1k8uNN0Bg7J0BTgK-0Z5glDNtd_5FTJQl/view?usp=sharing): Guide for the randomization methods.\n",
    "\n",
    "**Recommended Readings**: \n",
    "* [Randomness](https://www.inferentialthinking.com/chapters/09/Randomness.html)\n",
    "* [Sampling and Empirical Distributions](https://www.inferentialthinking.com/chapters/10/Sampling_and_Empirical_Distributions.html)\n",
    "* [Testing Hypotheses](https://www.inferentialthinking.com/chapters/11/Testing_Hypotheses.html)"
   ]
  },
  {
   "attachments": {},
   "cell_type": "markdown",
   "id": "e2a3cba0",
   "metadata": {},
   "source": [
    "Please complete this notebook by filling in the cells provided. **Before you begin, execute the cell below to setup the notebook by importing some helpful libraries.** Each time you start your server, you will need to execute this cell again.\n",
    "\n",
    "For all problems that you must write explanations and sentences for, you **must** provide your answer in the designated space. Moreover, throughout this homework and all future ones, **please be sure to not re-assign variables throughout the notebook!** For example, if you use `max_temperature` in your answer to one question, do not reassign it later on. Otherwise, you will fail tests that you thought you were passing previously!\n",
    "\n",
    "**Deadline:**\n",
    "\n",
    "This assignment is **due Wednesday, 10/9 at 5:00pm PT**. Submissions after this time will be accepted for 24 hours and will incur a 20% penalty. Any submissions later than this 24 hour period will not be accepted unless an extension has been granted as per the [policies](http://data8.org/fa24/policies/) page. Turn it in by Tuesday, 10/8 at 5:00pm PT for 5 extra credit points.\n",
    "\n",
    "<span style=\"color:red\">**Note: This homework has hidden tests on it. That means even though tests may say 100% passed, it doesn't mean your final grade will be 100%. We will be running more tests for correctness once everyone turns in the homework.**</span>\n",
    "\n",
    "Directly sharing answers is not okay, but discussing problems with the course staff or with other students is encouraged. Refer to the [policies](http://data8.org/fa24/policies/#learning-cooperatively) page to learn more about how to learn cooperatively.\n",
    "\n",
    "You should start early so that you have time to get help if you're stuck. Office hours are held Monday through Friday in [Warren Hall](https://www.berkeley.edu/map?warren) 101B. The office hours schedule appears [here](http://data8.org/fa24/schedule/)."
   ]
  },
  {
   "cell_type": "markdown",
   "id": "1c7eb7ba",
   "metadata": {},
   "source": [
    "---\n",
    "\n",
    "The point breakdown for this assignment is given in the table below:\n",
    "| Category | Points |\n",
    "| --- | --- |\n",
    "| Autograder (Coding questions) | 90 |\n",
    "| Written | 10 |\n",
    "| **Total** | 100 |"
   ]
  },
  {
   "cell_type": "markdown",
   "id": "930006eb",
   "metadata": {},
   "source": [
    "<hr style=\"border: 5px solid #003262;\" />\n",
    "<hr style=\"border: 1px solid #fdb515;\" />\n",
    "\n",
    "## 1. Roulette"
   ]
  },
  {
   "cell_type": "code",
   "execution_count": 45,
   "id": "f651a8ab",
   "metadata": {},
   "outputs": [],
   "source": [
    "# Run this cell to set up the notebook, but please don't change it.\n",
    "\n",
    "# These lines import the Numpy and Datascience modules.\n",
    "import numpy as np\n",
    "from datascience import *\n",
    "\n",
    "# These lines do some fancy plotting magic.\n",
    "import matplotlib\n",
    "%matplotlib inline\n",
    "import matplotlib.pyplot as plt\n",
    "plt.style.use('fivethirtyeight')\n",
    "import warnings\n",
    "warnings.simplefilter('ignore', FutureWarning)"
   ]
  },
  {
   "cell_type": "markdown",
   "id": "03c6d031",
   "metadata": {},
   "source": [
    "A Nevada roulette wheel has 38 pockets and a small ball that rests on the wheel. When the wheel is spun, the ball comes to rest in one of the 38 pockets. That pocket is declared the winner. \n",
    "\n",
    "The pockets are labeled 0, 00, 1, 2, 3, 4, ... , 36. Pockets 0 and 00 are green, and the other pockets are alternately red and black. The table `wheel` is a representation of a Nevada roulette wheel. **Note that *both* columns consist of strings.** Below is an example of a roulette wheel!"
   ]
  },
  {
   "cell_type": "markdown",
   "id": "08d888b3",
   "metadata": {},
   "source": [
    "<img src=\"roulette_wheel.jpeg\" width=\"330px\">"
   ]
  },
  {
   "cell_type": "markdown",
   "id": "65e03d7a",
   "metadata": {},
   "source": [
    "Run the cell below to load the `wheel` table."
   ]
  },
  {
   "cell_type": "code",
   "execution_count": 46,
   "id": "0d9de7bf",
   "metadata": {},
   "outputs": [
    {
     "data": {
      "text/html": [
       "<table border=\"1\" class=\"dataframe\">\n",
       "    <thead>\n",
       "        <tr>\n",
       "            <th>Pocket</th> <th>Color</th>\n",
       "        </tr>\n",
       "    </thead>\n",
       "    <tbody>\n",
       "        <tr>\n",
       "            <td>00    </td> <td>green</td>\n",
       "        </tr>\n",
       "        <tr>\n",
       "            <td>0     </td> <td>green</td>\n",
       "        </tr>\n",
       "        <tr>\n",
       "            <td>1     </td> <td>red  </td>\n",
       "        </tr>\n",
       "        <tr>\n",
       "            <td>2     </td> <td>black</td>\n",
       "        </tr>\n",
       "        <tr>\n",
       "            <td>3     </td> <td>red  </td>\n",
       "        </tr>\n",
       "        <tr>\n",
       "            <td>4     </td> <td>black</td>\n",
       "        </tr>\n",
       "        <tr>\n",
       "            <td>5     </td> <td>red  </td>\n",
       "        </tr>\n",
       "        <tr>\n",
       "            <td>6     </td> <td>black</td>\n",
       "        </tr>\n",
       "        <tr>\n",
       "            <td>7     </td> <td>red  </td>\n",
       "        </tr>\n",
       "        <tr>\n",
       "            <td>8     </td> <td>black</td>\n",
       "        </tr>\n",
       "    </tbody>\n",
       "</table>\n",
       "<p>... (28 rows omitted)</p>"
      ],
      "text/plain": [
       "Pocket | Color\n",
       "00     | green\n",
       "0      | green\n",
       "1      | red\n",
       "2      | black\n",
       "3      | red\n",
       "4      | black\n",
       "5      | red\n",
       "6      | black\n",
       "7      | red\n",
       "8      | black\n",
       "... (28 rows omitted)"
      ]
     },
     "execution_count": 46,
     "metadata": {},
     "output_type": "execute_result"
    }
   ],
   "source": [
    "wheel = Table.read_table('roulette_wheel.csv', dtype=str)\n",
    "wheel"
   ]
  },
  {
   "attachments": {},
   "cell_type": "markdown",
   "id": "a1ec555f",
   "metadata": {},
   "source": [
    "### Betting on Red ###\n",
    "If you bet on *red*, you are betting that the winning pocket will be red. This bet *pays 1 to 1*. That means if you place a one-dollar bet on red, then:\n",
    "\n",
    "- If the winning pocket is red, you gain 1 dollar. That is, you get your original dollar back, plus one more dollar.\n",
    "- If the winning pocket is not red, you lose your dollar. In other words, you gain -1 dollars.\n",
    "\n",
    "Let's see if you can make money by betting on red at roulette."
   ]
  },
  {
   "cell_type": "markdown",
   "id": "47f0f881",
   "metadata": {},
   "source": [
    "---\n",
    "\n",
    "**Question 1.** Define a function `dollar_bet_on_red` that takes the name of a color and returns your gain in dollars if that color had won and you had placed a one-dollar bet on red. Remember that the gain can be negative. Make sure your function returns an integer. **(4 points)**\n",
    "\n",
    "*Note:* You can assume that the only colors that will be passed as arguments are red, black, and green. Your function doesn't have to check that.\n"
   ]
  },
  {
   "cell_type": "code",
   "execution_count": 47,
   "id": "d5390368",
   "metadata": {
    "tags": []
   },
   "outputs": [],
   "source": [
    "def dollar_bet_on_red(color):\n",
    "    if color == 'red':\n",
    "        return 1\n",
    "    return 0"
   ]
  },
  {
   "cell_type": "code",
   "execution_count": 48,
   "id": "005ad958",
   "metadata": {
    "deletable": false,
    "editable": false
   },
   "outputs": [
    {
     "data": {
      "text/html": [
       "<p><strong><pre style='display: inline;'>q1_1</pre></strong> passed! 💯</p>"
      ],
      "text/plain": [
       "q1_1 results: All test cases passed!"
      ]
     },
     "execution_count": 48,
     "metadata": {},
     "output_type": "execute_result"
    }
   ],
   "source": [
    "grader.check(\"q1_1\")"
   ]
  },
  {
   "cell_type": "markdown",
   "id": "34a28d9a",
   "metadata": {},
   "source": [
    "Run the cell below to make sure your function is working."
   ]
  },
  {
   "cell_type": "code",
   "execution_count": 49,
   "id": "d1aee6c2",
   "metadata": {},
   "outputs": [
    {
     "name": "stdout",
     "output_type": "stream",
     "text": [
      "0\n",
      "0\n",
      "1\n"
     ]
    }
   ],
   "source": [
    "print(dollar_bet_on_red('green'))\n",
    "print(dollar_bet_on_red('black'))\n",
    "print(dollar_bet_on_red('red'))"
   ]
  },
  {
   "cell_type": "markdown",
   "id": "23670732",
   "metadata": {},
   "source": [
    "---\n",
    "\n",
    "**Question 2.** Add a column labeled `Winnings: Red` to the table `wheel`. For each pocket, the column should contain your gain in dollars if that pocket won and you had bet one dollar on red. Your code should use the function `dollar_bet_on_red`. **(4 points)**\n",
    "\n",
    "> *Hint:* You should not need a `for` loop for this question, instead try using a table method!"
   ]
  },
  {
   "cell_type": "code",
   "execution_count": 50,
   "id": "5e98a695",
   "metadata": {
    "scrolled": true,
    "tags": []
   },
   "outputs": [
    {
     "data": {
      "text/html": [
       "<table border=\"1\" class=\"dataframe\">\n",
       "    <thead>\n",
       "        <tr>\n",
       "            <th>Pocket</th> <th>Color</th>\n",
       "        </tr>\n",
       "    </thead>\n",
       "    <tbody>\n",
       "        <tr>\n",
       "            <td>00    </td> <td>green</td>\n",
       "        </tr>\n",
       "        <tr>\n",
       "            <td>0     </td> <td>green</td>\n",
       "        </tr>\n",
       "        <tr>\n",
       "            <td>1     </td> <td>red  </td>\n",
       "        </tr>\n",
       "        <tr>\n",
       "            <td>2     </td> <td>black</td>\n",
       "        </tr>\n",
       "        <tr>\n",
       "            <td>3     </td> <td>red  </td>\n",
       "        </tr>\n",
       "        <tr>\n",
       "            <td>4     </td> <td>black</td>\n",
       "        </tr>\n",
       "        <tr>\n",
       "            <td>5     </td> <td>red  </td>\n",
       "        </tr>\n",
       "        <tr>\n",
       "            <td>6     </td> <td>black</td>\n",
       "        </tr>\n",
       "        <tr>\n",
       "            <td>7     </td> <td>red  </td>\n",
       "        </tr>\n",
       "        <tr>\n",
       "            <td>8     </td> <td>black</td>\n",
       "        </tr>\n",
       "    </tbody>\n",
       "</table>\n",
       "<p>... (28 rows omitted)</p>"
      ],
      "text/plain": [
       "Pocket | Color\n",
       "00     | green\n",
       "0      | green\n",
       "1      | red\n",
       "2      | black\n",
       "3      | red\n",
       "4      | black\n",
       "5      | red\n",
       "6      | black\n",
       "7      | red\n",
       "8      | black\n",
       "... (28 rows omitted)"
      ]
     },
     "execution_count": 50,
     "metadata": {},
     "output_type": "execute_result"
    }
   ],
   "source": [
    "red_winnings = wheel.apply(dollar_bet_on_red, 'Color')\n",
    "wheel = wheel.drop('Winning: Red')\n",
    "wheel\n"
   ]
  },
  {
   "cell_type": "code",
   "execution_count": 51,
   "id": "579a5a93",
   "metadata": {
    "deletable": false,
    "editable": false
   },
   "outputs": [
    {
     "data": {
      "text/html": [
       "<p><strong style='color: red;'><pre style='display: inline;'>q1_2</pre> results:</strong></p><p><strong><pre style='display: inline;'>q1_2 - 1</pre> result:</strong></p><pre>    ❌ Test case failed\n",
       "    Trying:\n",
       "        wheel.labels[2] == \"Winnings: Red\"\n",
       "    Expecting:\n",
       "        True\n",
       "    **********************************************************************\n",
       "    Line 2, in q1_2 0\n",
       "    Failed example:\n",
       "        wheel.labels[2] == \"Winnings: Red\"\n",
       "    Exception raised:\n",
       "        Traceback (most recent call last):\n",
       "          File \"c:\\Users\\Luong\\AppData\\Local\\Programs\\Python\\Python311\\Lib\\doctest.py\", line 1351, in __run\n",
       "            exec(compile(example.source, filename, \"single\",\n",
       "          File \"<doctest q1_2 0[0]>\", line 1, in <module>\n",
       "            wheel.labels[2] == \"Winnings: Red\"\n",
       "            ~~~~~~~~~~~~^^^\n",
       "        IndexError: tuple index out of range\n",
       "</pre>"
      ],
      "text/plain": [
       "q1_2 results:\n",
       "    q1_2 - 1 result:\n",
       "        ❌ Test case failed\n",
       "        Trying:\n",
       "            wheel.labels[2] == \"Winnings: Red\"\n",
       "        Expecting:\n",
       "            True\n",
       "        **********************************************************************\n",
       "        Line 2, in q1_2 0\n",
       "        Failed example:\n",
       "            wheel.labels[2] == \"Winnings: Red\"\n",
       "        Exception raised:\n",
       "            Traceback (most recent call last):\n",
       "              File \"c:\\Users\\Luong\\AppData\\Local\\Programs\\Python\\Python311\\Lib\\doctest.py\", line 1351, in __run\n",
       "                exec(compile(example.source, filename, \"single\",\n",
       "              File \"<doctest q1_2 0[0]>\", line 1, in <module>\n",
       "                wheel.labels[2] == \"Winnings: Red\"\n",
       "                ~~~~~~~~~~~~^^^\n",
       "            IndexError: tuple index out of range"
      ]
     },
     "execution_count": 51,
     "metadata": {},
     "output_type": "execute_result"
    }
   ],
   "source": [
    "grader.check(\"q1_2\")"
   ]
  },
  {
   "cell_type": "markdown",
   "id": "e9f6274d",
   "metadata": {},
   "source": [
    "### Simulating 10 Bets on Red\n",
    "Roulette wheels are set up so that each time they are spun, the winning pocket is equally likely to be any of the 38 pockets regardless of the results of all other spins. Let's see what would happen if we decided to bet one dollar on red each round.\n",
    "\n",
    "--- \n",
    "\n",
    "**Question 3.** Create a table `ten_bets` by sampling the table `wheel` to simulate 10 spins of the roulette wheel. Your table should have the same three column labels as in `wheel`. Once you've created that table, set `sum_bets` to your net gain in all 10 bets, assuming that you bet one dollar on red each time. **(4 points)**\n",
    "\n",
    "*Note:* The [Sampling Methods Guide](https://drive.google.com/file/d/1k8uNN0Bg7J0BTgK-0Z5glDNtd_5FTJQl/view?usp=sharing) may be helpful!\n",
    "\n",
    "*Hint:* It may be helpful to print out `ten_bets` after you create it! "
   ]
  },
  {
   "cell_type": "code",
   "execution_count": 52,
   "id": "f2406492",
   "metadata": {
    "tags": []
   },
   "outputs": [
    {
     "data": {
      "text/plain": [
       "2"
      ]
     },
     "execution_count": 52,
     "metadata": {},
     "output_type": "execute_result"
    }
   ],
   "source": [
    "color = make_array('green', 'black', 'red')\n",
    "ten_toss = np.random.choice(color, 10)\n",
    "ten_bets = Table().with_columns('Pocket', np.arange(0,10), 'Color',ten_toss)\n",
    "ten_bets = ten_bets.with_column('Winnings: Red', ten_bets.apply(dollar_bet_on_red, 'Color'))\n",
    "sum_bets = np.sum(ten_bets.column('Winnings: Red'))\n",
    "sum_bets"
   ]
  },
  {
   "cell_type": "code",
   "execution_count": 53,
   "id": "b62c46ef",
   "metadata": {
    "deletable": false,
    "editable": false
   },
   "outputs": [
    {
     "data": {
      "text/html": [
       "<p><strong><pre style='display: inline;'>q1_3</pre></strong> passed! 🙌</p>"
      ],
      "text/plain": [
       "q1_3 results: All test cases passed!"
      ]
     },
     "execution_count": 53,
     "metadata": {},
     "output_type": "execute_result"
    }
   ],
   "source": [
    "grader.check(\"q1_3\")"
   ]
  },
  {
   "cell_type": "markdown",
   "id": "b85e0fce",
   "metadata": {},
   "source": [
    "Run the cells above a few times to see how much money you would make if you made 10 one-dollar bets on red. Making a negative amount of money doesn't feel good, but it is a reality in gambling. Casinos are a business, and they make money when gamblers lose."
   ]
  },
  {
   "cell_type": "markdown",
   "id": "673e51f9",
   "metadata": {},
   "source": [
    "--- \n",
    "\n",
    "**Question 4.** Let's see what would happen if you made more bets. Define a function `net_gain_red` that takes the number of bets and returns the net gain in that number of one-dollar bets on red. **(4 points)**\n",
    "\n",
    "*Hint:* You should use your `wheel` table within your function.\n"
   ]
  },
  {
   "cell_type": "code",
   "execution_count": 54,
   "id": "bda7cb32",
   "metadata": {
    "tags": []
   },
   "outputs": [],
   "source": [
    "def net_gain_red(number):\n",
    "    gain = 0\n",
    "    for it in range(number):\n",
    "        gain += np.random.choice(wheel.column('Winnings: Red'))\n",
    "    return gain"
   ]
  },
  {
   "cell_type": "code",
   "execution_count": 55,
   "id": "bc2e5bcb",
   "metadata": {
    "deletable": false,
    "editable": false
   },
   "outputs": [
    {
     "data": {
      "text/html": [
       "<p><strong style='color: red;'><pre style='display: inline;'>q1_4</pre> results:</strong></p><p><strong><pre style='display: inline;'>q1_4 - 1</pre> result:</strong></p><pre>    ❌ Test case failed\n",
       "    Trying:\n",
       "        net_gain_red(10000) != net_gain_red(10000)\n",
       "    Expecting:\n",
       "        True\n",
       "    **********************************************************************\n",
       "    Line 1, in q1_4 0\n",
       "    Failed example:\n",
       "        net_gain_red(10000) != net_gain_red(10000)\n",
       "    Exception raised:\n",
       "        Traceback (most recent call last):\n",
       "          File \"c:\\Users\\Luong\\AppData\\Local\\Programs\\Python\\Python311\\Lib\\doctest.py\", line 1351, in __run\n",
       "            exec(compile(example.source, filename, \"single\",\n",
       "          File \"<doctest q1_4 0[0]>\", line 1, in <module>\n",
       "            net_gain_red(10000) != net_gain_red(10000)\n",
       "            ^^^^^^^^^^^^^^^^^^^\n",
       "          File \"C:\\Users\\Luong\\AppData\\Local\\Temp\\ipykernel_3744\\4147913570.py\", line 4, in net_gain_red\n",
       "            gain += np.random.choice(wheel.column('Winnings: Red'))\n",
       "                                     ^^^^^^^^^^^^^^^^^^^^^^^^^^^^^\n",
       "          File \"c:\\Users\\Luong\\AppData\\Local\\Programs\\Python\\Python311\\Lib\\site-packages\\datascience\\tables.py\", line 408, in column\n",
       "            raise ValueError(\n",
       "        ValueError: The column \"Winnings: Red\" is not in the table. The table contains these columns: Pocket, Color\n",
       "</pre>"
      ],
      "text/plain": [
       "q1_4 results:\n",
       "    q1_4 - 1 result:\n",
       "        ❌ Test case failed\n",
       "        Trying:\n",
       "            net_gain_red(10000) != net_gain_red(10000)\n",
       "        Expecting:\n",
       "            True\n",
       "        **********************************************************************\n",
       "        Line 1, in q1_4 0\n",
       "        Failed example:\n",
       "            net_gain_red(10000) != net_gain_red(10000)\n",
       "        Exception raised:\n",
       "            Traceback (most recent call last):\n",
       "              File \"c:\\Users\\Luong\\AppData\\Local\\Programs\\Python\\Python311\\Lib\\doctest.py\", line 1351, in __run\n",
       "                exec(compile(example.source, filename, \"single\",\n",
       "              File \"<doctest q1_4 0[0]>\", line 1, in <module>\n",
       "                net_gain_red(10000) != net_gain_red(10000)\n",
       "                ^^^^^^^^^^^^^^^^^^^\n",
       "              File \"C:\\Users\\Luong\\AppData\\Local\\Temp\\ipykernel_3744\\4147913570.py\", line 4, in net_gain_red\n",
       "                gain += np.random.choice(wheel.column('Winnings: Red'))\n",
       "                                         ^^^^^^^^^^^^^^^^^^^^^^^^^^^^^\n",
       "              File \"c:\\Users\\Luong\\AppData\\Local\\Programs\\Python\\Python311\\Lib\\site-packages\\datascience\\tables.py\", line 408, in column\n",
       "                raise ValueError(\n",
       "            ValueError: The column \"Winnings: Red\" is not in the table. The table contains these columns: Pocket, Color"
      ]
     },
     "execution_count": 55,
     "metadata": {},
     "output_type": "execute_result"
    }
   ],
   "source": [
    "grader.check(\"q1_4\")"
   ]
  },
  {
   "cell_type": "markdown",
   "id": "d2fc3aae",
   "metadata": {},
   "source": [
    "Run the cell below a few times to make sure that the results are similar to those you observed in the previous exercise."
   ]
  },
  {
   "cell_type": "code",
   "execution_count": 56,
   "id": "dd5e3404",
   "metadata": {},
   "outputs": [
    {
     "ename": "ValueError",
     "evalue": "The column \"Winnings: Red\" is not in the table. The table contains these columns: Pocket, Color",
     "output_type": "error",
     "traceback": [
      "\u001b[1;31m---------------------------------------------------------------------------\u001b[0m",
      "\u001b[1;31mValueError\u001b[0m                                Traceback (most recent call last)",
      "Cell \u001b[1;32mIn[56], line 1\u001b[0m\n\u001b[1;32m----> 1\u001b[0m \u001b[43mnet_gain_red\u001b[49m\u001b[43m(\u001b[49m\u001b[38;5;241;43m10\u001b[39;49m\u001b[43m)\u001b[49m\n",
      "Cell \u001b[1;32mIn[54], line 4\u001b[0m, in \u001b[0;36mnet_gain_red\u001b[1;34m(number)\u001b[0m\n\u001b[0;32m      2\u001b[0m gain \u001b[38;5;241m=\u001b[39m \u001b[38;5;241m0\u001b[39m\n\u001b[0;32m      3\u001b[0m \u001b[38;5;28;01mfor\u001b[39;00m it \u001b[38;5;129;01min\u001b[39;00m \u001b[38;5;28mrange\u001b[39m(number):\n\u001b[1;32m----> 4\u001b[0m     gain \u001b[38;5;241m+\u001b[39m\u001b[38;5;241m=\u001b[39m np\u001b[38;5;241m.\u001b[39mrandom\u001b[38;5;241m.\u001b[39mchoice(\u001b[43mwheel\u001b[49m\u001b[38;5;241;43m.\u001b[39;49m\u001b[43mcolumn\u001b[49m\u001b[43m(\u001b[49m\u001b[38;5;124;43m'\u001b[39;49m\u001b[38;5;124;43mWinnings: Red\u001b[39;49m\u001b[38;5;124;43m'\u001b[39;49m\u001b[43m)\u001b[49m)\n\u001b[0;32m      5\u001b[0m \u001b[38;5;28;01mreturn\u001b[39;00m gain\n",
      "File \u001b[1;32mc:\\Users\\Luong\\AppData\\Local\\Programs\\Python\\Python311\\Lib\\site-packages\\datascience\\tables.py:408\u001b[0m, in \u001b[0;36mTable.column\u001b[1;34m(self, index_or_label)\u001b[0m\n\u001b[0;32m    383\u001b[0m \u001b[38;5;250m\u001b[39m\u001b[38;5;124;03m\"\"\"Return the values of a column as an array.\u001b[39;00m\n\u001b[0;32m    384\u001b[0m \n\u001b[0;32m    385\u001b[0m \u001b[38;5;124;03mtable.column(label) is equivalent to table[label].\u001b[39;00m\n\u001b[1;32m   (...)\u001b[0m\n\u001b[0;32m    404\u001b[0m \u001b[38;5;124;03m    ``ValueError``: When the ``index_or_label`` is not in the table.\u001b[39;00m\n\u001b[0;32m    405\u001b[0m \u001b[38;5;124;03m\"\"\"\u001b[39;00m\n\u001b[0;32m    406\u001b[0m \u001b[38;5;28;01mif\u001b[39;00m (\u001b[38;5;28misinstance\u001b[39m(index_or_label, \u001b[38;5;28mstr\u001b[39m)\n\u001b[0;32m    407\u001b[0m         \u001b[38;5;129;01mand\u001b[39;00m index_or_label \u001b[38;5;129;01mnot\u001b[39;00m \u001b[38;5;129;01min\u001b[39;00m \u001b[38;5;28mself\u001b[39m\u001b[38;5;241m.\u001b[39mlabels):\n\u001b[1;32m--> 408\u001b[0m     \u001b[38;5;28;01mraise\u001b[39;00m \u001b[38;5;167;01mValueError\u001b[39;00m(\n\u001b[0;32m    409\u001b[0m         \u001b[38;5;124m'\u001b[39m\u001b[38;5;124mThe column \u001b[39m\u001b[38;5;124m\"\u001b[39m\u001b[38;5;132;01m{}\u001b[39;00m\u001b[38;5;124m\"\u001b[39m\u001b[38;5;124m is not in the table. The table contains \u001b[39m\u001b[38;5;124m'\u001b[39m\n\u001b[0;32m    410\u001b[0m         \u001b[38;5;124m'\u001b[39m\u001b[38;5;124mthese columns: \u001b[39m\u001b[38;5;132;01m{}\u001b[39;00m\u001b[38;5;124m'\u001b[39m\n\u001b[0;32m    411\u001b[0m         \u001b[38;5;241m.\u001b[39mformat(index_or_label, \u001b[38;5;124m'\u001b[39m\u001b[38;5;124m, \u001b[39m\u001b[38;5;124m'\u001b[39m\u001b[38;5;241m.\u001b[39mjoin(\u001b[38;5;28mself\u001b[39m\u001b[38;5;241m.\u001b[39mlabels))\n\u001b[0;32m    412\u001b[0m     )\n\u001b[0;32m    413\u001b[0m \u001b[38;5;28;01mif\u001b[39;00m (\u001b[38;5;28misinstance\u001b[39m(index_or_label, \u001b[38;5;28mint\u001b[39m)\n\u001b[0;32m    414\u001b[0m         \u001b[38;5;129;01mand\u001b[39;00m \u001b[38;5;129;01mnot\u001b[39;00m \u001b[38;5;241m0\u001b[39m \u001b[38;5;241m<\u001b[39m\u001b[38;5;241m=\u001b[39m index_or_label \u001b[38;5;241m<\u001b[39m \u001b[38;5;28mlen\u001b[39m(\u001b[38;5;28mself\u001b[39m\u001b[38;5;241m.\u001b[39mlabels)):\n\u001b[0;32m    415\u001b[0m     \u001b[38;5;28;01mraise\u001b[39;00m \u001b[38;5;167;01mValueError\u001b[39;00m(\n\u001b[0;32m    416\u001b[0m         \u001b[38;5;124m'\u001b[39m\u001b[38;5;124mThe index \u001b[39m\u001b[38;5;132;01m{}\u001b[39;00m\u001b[38;5;124m is not in the table. Only indices between \u001b[39m\u001b[38;5;124m'\u001b[39m\n\u001b[0;32m    417\u001b[0m         \u001b[38;5;124m'\u001b[39m\u001b[38;5;124m0 and \u001b[39m\u001b[38;5;132;01m{}\u001b[39;00m\u001b[38;5;124m are valid\u001b[39m\u001b[38;5;124m'\u001b[39m\n\u001b[0;32m    418\u001b[0m         \u001b[38;5;241m.\u001b[39mformat(index_or_label, \u001b[38;5;28mlen\u001b[39m(\u001b[38;5;28mself\u001b[39m\u001b[38;5;241m.\u001b[39mlabels) \u001b[38;5;241m-\u001b[39m \u001b[38;5;241m1\u001b[39m)\n\u001b[0;32m    419\u001b[0m     )\n",
      "\u001b[1;31mValueError\u001b[0m: The column \"Winnings: Red\" is not in the table. The table contains these columns: Pocket, Color"
     ]
    }
   ],
   "source": [
    "net_gain_red(10)"
   ]
  },
  {
   "cell_type": "markdown",
   "id": "57ed06be",
   "metadata": {},
   "source": [
    "---\n",
    "\n",
    "**Question 5.** Complete the cell below to simulate the net gain in 200 one-dollar bets on red, repeating the process 10,000 times. After the cell is run, `simulated_gains_red` should be an array with 10,000 entries, each of which is the net gain in 200 one-dollar bets on red. **(4 points)**\n",
    "\n",
    "*Hint:* Think about which computational tool might be helpful for simulating a process multiple times. Lab 5 might be a good resource to look at!\n",
    "\n",
    "*Note:* This cell might take a few seconds to run.\n"
   ]
  },
  {
   "cell_type": "code",
   "execution_count": null,
   "id": "d8e9a58d",
   "metadata": {
    "tags": []
   },
   "outputs": [
    {
     "data": {
      "text/plain": [
       "10000"
      ]
     },
     "execution_count": 26,
     "metadata": {},
     "output_type": "execute_result"
    }
   ],
   "source": [
    "num_bets = 200\n",
    "repetitions = 10000\n",
    "\n",
    "simulated_gains_red = make_array()\n",
    "for it in range(repetitions):\n",
    "    simulated_gains_red = np.append(simulated_gains_red, net_gain_red(num_bets))\n",
    "\n",
    "len(simulated_gains_red) # Do not change this line! Check that simulated_gains_red is length 10000."
   ]
  },
  {
   "cell_type": "code",
   "execution_count": null,
   "id": "561490a4",
   "metadata": {
    "deletable": false,
    "editable": false
   },
   "outputs": [
    {
     "data": {
      "text/html": [
       "<p><strong><pre style='display: inline;'>q1_5</pre></strong> passed! 🙌</p>"
      ],
      "text/plain": [
       "q1_5 results: All test cases passed!"
      ]
     },
     "execution_count": 27,
     "metadata": {},
     "output_type": "execute_result"
    }
   ],
   "source": [
    "grader.check(\"q1_5\")"
   ]
  },
  {
   "cell_type": "markdown",
   "id": "09a9d89c",
   "metadata": {},
   "source": [
    "Run the cell below to visualize the results of your simulation."
   ]
  },
  {
   "cell_type": "code",
   "execution_count": null,
   "id": "4d9c73c7",
   "metadata": {},
   "outputs": [
    {
     "name": "stderr",
     "output_type": "stream",
     "text": [
      "c:\\Users\\Luong\\AppData\\Local\\Programs\\Python\\Python311\\Lib\\site-packages\\numpy\\lib\\histograms.py:885: RuntimeWarning: invalid value encountered in divide\n",
      "  return n/db/n.sum(), bin_edges\n"
     ]
    },
    {
     "data": {
      "image/png": "[encoded data removed]",
      "text/plain": [
       "<Figure size 600x400 with 1 Axes>"
      ]
     },
     "metadata": {},
     "output_type": "display_data"
    }
   ],
   "source": [
    "gains = Table().with_columns('Net Gain on Red', simulated_gains_red)\n",
    "gains.hist(bins = np.arange(-80, 41, 4))"
   ]
  },
  {
   "cell_type": "markdown",
   "id": "c3b0057f",
   "metadata": {},
   "source": [
    "---\n",
    "\n",
    "**Question 6:** Using the histogram above, decide whether the following statement is true or false:\n",
    "\n",
    ">If you make 200 one-dollar bets on red, your chance of losing money is more than 50%.\n",
    "\n",
    "Assign `loss_more_than_50` to either `True` or `False` depending on your answer to the question. **(2 points)**\n"
   ]
  },
  {
   "cell_type": "code",
   "execution_count": null,
   "id": "d92640dd",
   "metadata": {
    "tags": []
   },
   "outputs": [],
   "source": [
    "loss_more_than_50 = True"
   ]
  },
  {
   "cell_type": "code",
   "execution_count": null,
   "id": "516e9574",
   "metadata": {
    "deletable": false,
    "editable": false
   },
   "outputs": [],
   "source": [
    "grader.check(\"q1_6\")"
   ]
  },
  {
   "cell_type": "markdown",
   "id": "e6e2606b",
   "metadata": {},
   "source": [
    "### Betting on a Split ###\n",
    "If betting on red doesn't seem like a good idea, maybe a gambler might want to try a different bet. A bet on a *split* is a bet on two consecutive numbers such as 5 and 6. This bets pays 17 to 1. That means if you place a one-dollar bet on the split 5 and 6, then:\n",
    "\n",
    "- If the winning pocket is either 5 or 6, your gain is 17 dollars.\n",
    "- If any other pocket wins, you lose your dollar, so your gain is -1 dollars.\n",
    "\n",
    "---\n",
    "\n",
    "**Question 7.** Define a function `dollar_bet_on_split` that takes a pocket number and returns your gain in dollars if that pocket won and you had bet one dollar on the 5-6 split. **(4 points)**\n",
    "\n",
    "*Hint:* Remember that the pockets are represented as strings.\n"
   ]
  },
  {
   "cell_type": "code",
   "execution_count": null,
   "id": "a81dc575",
   "metadata": {
    "tags": []
   },
   "outputs": [],
   "source": [
    "def dollar_bet_on_split(number):\n",
    "    if number == '5' or number =='6':\n",
    "        return 17\n",
    "    return -1"
   ]
  },
  {
   "cell_type": "code",
   "execution_count": null,
   "id": "64faf3a3",
   "metadata": {
    "deletable": false,
    "editable": false
   },
   "outputs": [
    {
     "data": {
      "text/html": [
       "<p><strong><pre style='display: inline;'>q1_7</pre></strong> passed! 🍀</p>"
      ],
      "text/plain": [
       "q1_7 results: All test cases passed!"
      ]
     },
     "execution_count": 35,
     "metadata": {},
     "output_type": "execute_result"
    }
   ],
   "source": [
    "grader.check(\"q1_7\")"
   ]
  },
  {
   "cell_type": "markdown",
   "id": "2eeb6262",
   "metadata": {},
   "source": [
    "Run the cell below to check that your function is doing what it should."
   ]
  },
  {
   "cell_type": "code",
   "execution_count": null,
   "id": "bddb171f",
   "metadata": {
    "scrolled": true
   },
   "outputs": [
    {
     "name": "stdout",
     "output_type": "stream",
     "text": [
      "17\n",
      "17\n",
      "-1\n",
      "-1\n"
     ]
    }
   ],
   "source": [
    "print(dollar_bet_on_split('5'))\n",
    "print(dollar_bet_on_split('6'))\n",
    "print(dollar_bet_on_split('00'))\n",
    "print(dollar_bet_on_split('23'))"
   ]
  },
  {
   "cell_type": "markdown",
   "id": "907fca2a",
   "metadata": {},
   "source": [
    "---\n",
    "\n",
    "**Question 8.** Add a column `Winnings: Split` to the `wheel` table. For each pocket, the column should contain your gain in dollars if that pocket won and you had bet one dollar on the 5-6 split. **(4 points)**\n"
   ]
  },
  {
   "cell_type": "code",
   "execution_count": null,
   "id": "058355e3",
   "metadata": {
    "scrolled": true,
    "tags": []
   },
   "outputs": [
    {
     "data": {
      "text/html": [
       "<table border=\"1\" class=\"dataframe\">\n",
       "    <thead>\n",
       "        <tr>\n",
       "            <th>Pocket</th> <th>Color</th> <th>Winnings: Red</th> <th>Winnings: Split</th>\n",
       "        </tr>\n",
       "    </thead>\n",
       "    <tbody>\n",
       "        <tr>\n",
       "            <td>00    </td> <td>green</td> <td>0            </td> <td>-1             </td>\n",
       "        </tr>\n",
       "        <tr>\n",
       "            <td>0     </td> <td>green</td> <td>0            </td> <td>-1             </td>\n",
       "        </tr>\n",
       "        <tr>\n",
       "            <td>1     </td> <td>red  </td> <td>1            </td> <td>-1             </td>\n",
       "        </tr>\n",
       "        <tr>\n",
       "            <td>2     </td> <td>black</td> <td>0            </td> <td>-1             </td>\n",
       "        </tr>\n",
       "        <tr>\n",
       "            <td>3     </td> <td>red  </td> <td>1            </td> <td>-1             </td>\n",
       "        </tr>\n",
       "    </tbody>\n",
       "</table>\n",
       "<p>... (33 rows omitted)</p>"
      ],
      "text/plain": [
       "<IPython.core.display.HTML object>"
      ]
     },
     "metadata": {},
     "output_type": "display_data"
    }
   ],
   "source": [
    "split_winnings = wheel.apply(dollar_bet_on_split, 'Pocket')\n",
    "wheel =  wheel.with_column('Winnings: Split', split_winnings)\n",
    "wheel.show(5) # Do not change this line."
   ]
  },
  {
   "cell_type": "code",
   "execution_count": null,
   "id": "b6c3c5b4",
   "metadata": {
    "deletable": false,
    "editable": false
   },
   "outputs": [
    {
     "data": {
      "text/html": [
       "<p><strong><pre style='display: inline;'>q1_8</pre></strong> passed! ✨</p>"
      ],
      "text/plain": [
       "q1_8 results: All test cases passed!"
      ]
     },
     "execution_count": 38,
     "metadata": {},
     "output_type": "execute_result"
    }
   ],
   "source": [
    "grader.check(\"q1_8\")"
   ]
  },
  {
   "cell_type": "markdown",
   "id": "7a5953a1",
   "metadata": {},
   "source": [
    "---\n",
    "\n",
    "**Question 9.** Simulate the net gain in 200 one-dollar bets on the 5-6 split, repeating the process 10,000 times and saving your gains in the array `simulated_gains_split`. **(5 points)**\n",
    "\n",
    "*Hint:* Your code in Questions 4 and 5 may be helpful here!\n"
   ]
  },
  {
   "cell_type": "code",
   "execution_count": null,
   "id": "8b32298e",
   "metadata": {
    "scrolled": false,
    "tags": []
   },
   "outputs": [
    {
     "data": {
      "image/png": "[encoded data removed]",
      "text/plain": [
       "<Figure size 600x400 with 1 Axes>"
      ]
     },
     "metadata": {},
     "output_type": "display_data"
    }
   ],
   "source": [
    "simulated_gains_split = make_array()\n",
    "for it in range(10000):\n",
    "    abc = 0\n",
    "    for x in range(200):\n",
    "        abc += dollar_bet_on_split(np.random.choice(wheel.column('Pocket')))\n",
    "    simulated_gains_split = np.append(simulated_gains_split, abc)\n",
    "\n",
    "# Do not change the two lines below\n",
    "gains = gains.with_columns('Net Gain on Split', simulated_gains_split)\n",
    "gains.hist(bins = np.arange(-200, 150, 20))"
   ]
  },
  {
   "cell_type": "code",
   "execution_count": null,
   "id": "d47c304e",
   "metadata": {
    "deletable": false,
    "editable": false
   },
   "outputs": [
    {
     "data": {
      "text/html": [
       "<p><strong><pre style='display: inline;'>q1_9</pre></strong> passed! 🎉</p>"
      ],
      "text/plain": [
       "q1_9 results: All test cases passed!"
      ]
     },
     "execution_count": 40,
     "metadata": {},
     "output_type": "execute_result"
    }
   ],
   "source": [
    "grader.check(\"q1_9\")"
   ]
  },
  {
   "cell_type": "markdown",
   "id": "bdc8ed4f",
   "metadata": {},
   "source": [
    "---\n",
    "\n",
    "**Question 10.** Look carefully at the visualization above, and assign `histogram_statements` to an array of the numbers of each statement below that can be correctly inferred from the overlaid histogram. **(2 points)**\n",
    "\n",
    "1. If you bet one dollar 200 times on a split, your chance of losing money is more than 50%.\n",
    "2. If you bet one dollar 200 times in roulette, your chance of making more than 50 dollars is greater if you bet on a split each time than if you bet on red each time.\n",
    "3. If you bet one dollar 200 times in roulette, your chance of losing more than 50 dollars is greater if you bet on a split each time than if you bet on red each time.\n",
    "\n",
    "*Hint:* We've already seen one of these statements in a prior question.\n"
   ]
  },
  {
   "cell_type": "code",
   "execution_count": null,
   "id": "e07f522a",
   "metadata": {
    "tags": []
   },
   "outputs": [],
   "source": [
    "histogram_statements = ..."
   ]
  },
  {
   "cell_type": "code",
   "execution_count": null,
   "id": "81afb6ac",
   "metadata": {
    "deletable": false,
    "editable": false
   },
   "outputs": [],
   "source": [
    "grader.check(\"q1_10\")"
   ]
  },
  {
   "cell_type": "markdown",
   "id": "16c3f316",
   "metadata": {},
   "source": [
    "If this exercise has put you off playing roulette, it has done its job. If you are still curious about other bets, [here](https://en.wikipedia.org/wiki/Roulette#Bet_odds_table) they all are, and [here](https://en.wikipedia.org/wiki/Roulette#House_edge) is the bad news. The house – that is, the casino – always has an edge over the gambler."
   ]
  },
  {
   "cell_type": "markdown",
   "id": "7f90f10f",
   "metadata": {},
   "source": [
    "<hr style=\"border: 5px solid #003262;\" />\n",
    "<hr style=\"border: 1px solid #fdb515;\" />\n",
    "\n",
    "## 2. Chances"
   ]
  },
  {
   "cell_type": "markdown",
   "id": "b72d2e58",
   "metadata": {},
   "source": [
    "Before you do this exercise, make sure you understand the logic behind all the examples in [Section 9.5](https://inferentialthinking.com/chapters/09/5/Finding_Probabilities.html). \n",
    "\n",
    "Good ways to approach probability calculations include:\n",
    "\n",
    "- Thinking one trial at a time: What does the first one have to be? Then what does the next one have to be?\n",
    "- Breaking up the event into distinct ways in which it can happen.\n",
    "- Seeing if it is easier to find the chance that the event does not happen."
   ]
  },
  {
   "cell_type": "markdown",
   "id": "36b59c49",
   "metadata": {},
   "source": [
    "### Finding Chances\n",
    "\n",
    "On each spin of a roulette wheel, all 38 pockets are equally likely to be the winner regardless of the results of other spins. Among the 38 pockets, 18 are red, 18 black, and 2 green. In each part below, write an expression that evaluates to the chance of the event described."
   ]
  },
  {
   "cell_type": "markdown",
   "id": "83619a90",
   "metadata": {},
   "source": [
    "--- \n",
    "\n",
    "**Question 1.** The winning pocket is black on all of the first three spins. **(3 points)**\n"
   ]
  },
  {
   "cell_type": "code",
   "execution_count": null,
   "id": "426bd7d8",
   "metadata": {
    "tags": []
   },
   "outputs": [],
   "source": [
    "first_three_black = ..."
   ]
  },
  {
   "cell_type": "code",
   "execution_count": null,
   "id": "82b49836",
   "metadata": {
    "deletable": false,
    "editable": false
   },
   "outputs": [],
   "source": [
    "grader.check(\"q2_1\")"
   ]
  },
  {
   "cell_type": "markdown",
   "id": "60df382a",
   "metadata": {},
   "source": [
    "---\n",
    "\n",
    "**Question 2.** The color green never wins in the first 10 spins. **(3 points)**\n"
   ]
  },
  {
   "cell_type": "code",
   "execution_count": null,
   "id": "73d1c150",
   "metadata": {
    "tags": []
   },
   "outputs": [],
   "source": [
    "no_green = ..."
   ]
  },
  {
   "cell_type": "code",
   "execution_count": null,
   "id": "6ffdc70a",
   "metadata": {
    "deletable": false,
    "editable": false
   },
   "outputs": [],
   "source": [
    "grader.check(\"q2_2\")"
   ]
  },
  {
   "cell_type": "markdown",
   "id": "d5d0aace",
   "metadata": {},
   "source": [
    "---\n",
    "\n",
    "**Question 3.** The color green wins **at least once** on the first 10 spins. **(3 points)**\n"
   ]
  },
  {
   "cell_type": "code",
   "execution_count": null,
   "id": "7db57353",
   "metadata": {
    "tags": []
   },
   "outputs": [],
   "source": [
    "at_least_one_green = ..."
   ]
  },
  {
   "cell_type": "code",
   "execution_count": null,
   "id": "59d0f004",
   "metadata": {
    "deletable": false,
    "editable": false
   },
   "outputs": [],
   "source": [
    "grader.check(\"q2_3\")"
   ]
  },
  {
   "cell_type": "markdown",
   "id": "dca5ffbe",
   "metadata": {},
   "source": [
    "--- \n",
    "\n",
    "**Question 4.** Two of the three colors **never** win in the first 10 spins. **(3 points)**\n",
    "\n",
    "*Hint:* What situation(s) lead to two of the three colors never winning in the first 10 spins?\n"
   ]
  },
  {
   "cell_type": "code",
   "execution_count": null,
   "id": "ec34cc22",
   "metadata": {
    "tags": []
   },
   "outputs": [],
   "source": [
    "lone_winners = ..."
   ]
  },
  {
   "cell_type": "code",
   "execution_count": null,
   "id": "06fd6eae",
   "metadata": {
    "deletable": false,
    "editable": false
   },
   "outputs": [],
   "source": [
    "grader.check(\"q2_4\")"
   ]
  },
  {
   "cell_type": "markdown",
   "id": "aadb70a3",
   "metadata": {},
   "source": [
    "### Comparing Chances\n",
    "In each of Questions 5-7, two events A and B are described. Choose from one of the following three options and set each answer variable to a single integer:\n",
    "\n",
    "1. Event A is more likely than Event B\n",
    "2. Event B is more likely than Event A\n",
    "3. The two events have the same chance.\n",
    "\n",
    "You should be able to make the choices **without calculation**. Good ways to approach this exercise include imagining carrying out the chance experiments yourself, one trial at a time, and by thinking about the [law of averages](https://inferentialthinking.com/chapters/10/1/Empirical_Distributions.html#the-law-of-averages)."
   ]
  },
  {
   "cell_type": "markdown",
   "id": "9c0e630a",
   "metadata": {},
   "source": [
    "---\n",
    "\n",
    "**Question 5.** A child picks four times at random from a box that has four toy animals: a bear, an elephant, a giraffe, and a kangaroo. **(2 points)**\n",
    "\n",
    "- Event A: all four different animals are picked (assuming the child picks without replacement)\n",
    "- Event B: all four different animals are picked (assuming the child picks with replacement)\n"
   ]
  },
  {
   "cell_type": "code",
   "execution_count": null,
   "id": "b6b63df5",
   "metadata": {
    "tags": []
   },
   "outputs": [],
   "source": [
    "toys_option = ..."
   ]
  },
  {
   "cell_type": "code",
   "execution_count": null,
   "id": "3b30d692",
   "metadata": {
    "deletable": false,
    "editable": false
   },
   "outputs": [],
   "source": [
    "grader.check(\"q2_5\")"
   ]
  },
  {
   "cell_type": "markdown",
   "id": "ea0f24a0",
   "metadata": {},
   "source": [
    "---\n",
    "\n",
    "**Question 6.** In a lottery, two numbers are drawn at random with replacement from the integers 1 through 1000. **(2 points)**\n",
    "\n",
    "- Event A: The number 8 is picked on both draws\n",
    "- Event B: The same number is picked on both draws\n"
   ]
  },
  {
   "cell_type": "code",
   "execution_count": null,
   "id": "f2b16f35",
   "metadata": {
    "tags": []
   },
   "outputs": [],
   "source": [
    "lottery_option = ..."
   ]
  },
  {
   "cell_type": "code",
   "execution_count": null,
   "id": "312f6f47",
   "metadata": {
    "deletable": false,
    "editable": false
   },
   "outputs": [],
   "source": [
    "grader.check(\"q2_6\")"
   ]
  },
  {
   "cell_type": "markdown",
   "id": "17462843",
   "metadata": {},
   "source": [
    "---\n",
    "\n",
    "**Question 7.** A fair coin is tossed repeatedly. **(2 points)**\n",
    "\n",
    "- Event A: There are 60 or more heads in 100 tosses\n",
    "- Event B: There are 600 or more heads in 1000 tosses\n",
    "\n",
    "*Hint*: Think about the law of averages!\n"
   ]
  },
  {
   "cell_type": "code",
   "execution_count": null,
   "id": "4a0c609d",
   "metadata": {
    "tags": []
   },
   "outputs": [],
   "source": [
    "coin_option = ..."
   ]
  },
  {
   "cell_type": "code",
   "execution_count": null,
   "id": "b74c557b",
   "metadata": {
    "deletable": false,
    "editable": false
   },
   "outputs": [],
   "source": [
    "grader.check(\"q2_7\")"
   ]
  },
  {
   "cell_type": "markdown",
   "id": "ad112644",
   "metadata": {},
   "source": [
    "<hr style=\"border: 5px solid #003262;\" />\n",
    "<hr style=\"border: 1px solid #fdb515;\" />\n",
    "\n",
    "## 3. Three Ways Python Draws Random Samples"
   ]
  },
  {
   "cell_type": "markdown",
   "id": "0fc94c99",
   "metadata": {},
   "source": [
    "You have learned three ways to draw random samples using Python:\n",
    "\n",
    "- `tbl.sample` draws a random sample of rows from the table `tbl`. The output is a table consisting of the sampled rows. \n",
    "\n",
    "- `np.random.choice` draws a random sample from a population whose elements are in an array. The output is an array consisting of the sampled elements.\n",
    "\n",
    "- `sample_proportions` draws from a categorical distribution whose proportions are in an array. The output is an array consisting of the sampled proportions in all the categories. "
   ]
  },
  {
   "cell_type": "code",
   "execution_count": null,
   "id": "d5a51d4f",
   "metadata": {},
   "outputs": [],
   "source": [
    "# Look through this code and run this cell for questions 1 and 2\n",
    "top_movies = Table.read_table('top_movies_2017.csv').select(0, 1)\n",
    "top_movies.show(3)"
   ]
  },
  {
   "cell_type": "code",
   "execution_count": null,
   "id": "0dfeda0b",
   "metadata": {},
   "outputs": [],
   "source": [
    "# Look through this code and run this cell for questions 1 and 2\n",
    "studios_with_counts = top_movies.group('Studio').sort('count', descending=True)\n",
    "studios_with_counts.show(3)"
   ]
  },
  {
   "cell_type": "code",
   "execution_count": null,
   "id": "6bcb34ba",
   "metadata": {},
   "outputs": [],
   "source": [
    "# Look through this code and run this cell for questions 1 and 2\n",
    "studios_of_all_movies = top_movies.column('Studio')\n",
    "distinct_studios = studios_with_counts.column('Studio')\n",
    "\n",
    "print(\"studios_of_all_movies:\", studios_of_all_movies[:10], \"...\")\n",
    "print(\"\\n distinct_studios:\", distinct_studios)"
   ]
  },
  {
   "cell_type": "code",
   "execution_count": null,
   "id": "f12037f6",
   "metadata": {},
   "outputs": [],
   "source": [
    "# Look through this code and run this cell for questions 1 and 2\n",
    "studio_counts_only = studios_with_counts.column('count')\n",
    "studio_proportions_only = studio_counts_only / sum(studio_counts_only)\n",
    "\n",
    "print(\"studio_counts_only:\", studio_counts_only)\n",
    "print(\"\\n studio_proportions_only:\", studio_proportions_only)"
   ]
  },
  {
   "attachments": {},
   "cell_type": "markdown",
   "id": "aa0ad8c5",
   "metadata": {},
   "source": [
    "In Questions 1 and 2, we will present a scenario. For each scenario, we will ask whether the desired result can be achieved by using a given function and the following tables/arrays: `top_movies`, `studios_with_counts`, `studios_of_all_movies`, `distinct_studios`, `studio_counts_only` and `studio_proportions_only`. You can assume we know which index of the array corresponds with the studio with that movie count/proportion.\n",
    "\n",
    "_Note: **Do not** explain your answer; please answer yes or no and the name of the array/table._"
   ]
  },
  {
   "attachments": {},
   "cell_type": "markdown",
   "id": "da7abb99",
   "metadata": {},
   "source": [
    "---\n",
    "\n",
    "**Question 1.** Simulate a sample of 10 movies drawn at random with replacement from the 200 movies. Using just this sample, do we have enough information to output `True` if Paramount appears more often than Warner Brothers among studios that released the sampled movies, and `False` otherwise?\n",
    "\n",
    "*Example Answer:* Yes, with \"studio_proportions_only\".\n",
    "\n",
    "***Note***: Do not explain your answer for any of the options you've chosen; please follow the structure of the example answer provided."
   ]
  },
  {
   "cell_type": "markdown",
   "id": "630f6c0e",
   "metadata": {},
   "source": [
    "<!-- BEGIN QUESTION -->\n",
    "\n",
    "**Question 1(a)** Can this be done using the `sample` function? If yes, what table would we call `sample` on? **(1 point)**\n"
   ]
  },
  {
   "cell_type": "markdown",
   "id": "b8d44d00",
   "metadata": {},
   "source": [
    "_Type your answer here, replacing this text._"
   ]
  },
  {
   "cell_type": "markdown",
   "id": "6c32098b",
   "metadata": {},
   "source": [
    "<!-- END QUESTION -->\n",
    "\n",
    "<!-- BEGIN QUESTION -->\n",
    "\n",
    "**Question 1(b)** Can this be done using the `np.random.choice` function? If yes, what array would we call `np.random.choice` on? **(1 point)**\n"
   ]
  },
  {
   "cell_type": "markdown",
   "id": "cd9070c4",
   "metadata": {},
   "source": [
    "_Type your answer here, replacing this text._"
   ]
  },
  {
   "cell_type": "markdown",
   "id": "425f3d47",
   "metadata": {},
   "source": [
    "<!-- END QUESTION -->\n",
    "\n",
    "<!-- BEGIN QUESTION -->\n",
    "\n",
    "**Question 1(c)** Can this be done using the `sample_proportions` function? If yes, what array would we call `sample_proportions` on? **(1 point)**\n"
   ]
  },
  {
   "cell_type": "markdown",
   "id": "a2783796",
   "metadata": {},
   "source": [
    "_Type your answer here, replacing this text._"
   ]
  },
  {
   "attachments": {},
   "cell_type": "markdown",
   "id": "e2adb780",
   "metadata": {},
   "source": [
    "<!-- END QUESTION -->\n",
    "\n",
    "---\n",
    "\n",
    "**Question 2.** Simulate a sample of 10 movies drawn at random with replacement from the 200 movies. Using just this sample, do we have enough information to output `True` if the first sampled movie was released by the same studio as the last sampled movie? **(3 points)**\n",
    "\n",
    "*Example Answer:* Yes, with \"studio_proportions_only\".\n",
    "\n",
    "***Note***: Do not explain your answer for any of the options you've chosen; please follow the structure of the example answer provided.\n"
   ]
  },
  {
   "cell_type": "markdown",
   "id": "2f74d8c5",
   "metadata": {},
   "source": [
    "<!-- BEGIN QUESTION -->\n",
    "\n",
    "**Question 2(a)** Can this be done using the `sample` function? If yes, what table would we call `sample` on? **(1 point)**\n"
   ]
  },
  {
   "cell_type": "markdown",
   "id": "eeb66753",
   "metadata": {},
   "source": [
    "_Type your answer here, replacing this text._"
   ]
  },
  {
   "cell_type": "markdown",
   "id": "1ec0e72d",
   "metadata": {},
   "source": [
    "<!-- END QUESTION -->\n",
    "\n",
    "<!-- BEGIN QUESTION -->\n",
    "\n",
    "**Question 2(b)** Can this be done using the `np.random.choice` function? If yes, what array would we call `np.random.choice` on? **(1 point)**\n"
   ]
  },
  {
   "cell_type": "markdown",
   "id": "66213c34",
   "metadata": {},
   "source": [
    "_Type your answer here, replacing this text._"
   ]
  },
  {
   "cell_type": "markdown",
   "id": "b314de5c",
   "metadata": {},
   "source": [
    "<!-- END QUESTION -->\n",
    "\n",
    "<!-- BEGIN QUESTION -->\n",
    "\n",
    "**Question 2(c)** Can this be done using the `sample_proportions` function? If yes, what array would we call `sample_proportions` on? **(1 point)**\n"
   ]
  },
  {
   "cell_type": "markdown",
   "id": "8c75db18",
   "metadata": {},
   "source": [
    "_Type your answer here, replacing this text._"
   ]
  },
  {
   "cell_type": "markdown",
   "id": "74396e59",
   "metadata": {
    "tags": []
   },
   "source": [
    "<!-- END QUESTION -->\n",
    "\n",
    "<hr style=\"border: 5px solid #003262;\" />\n",
    "<hr style=\"border: 1px solid #fdb515;\" />\n",
    "\n",
    "## 4. Assessing Jade's Models\n",
    "\n",
    "Before you begin, [Section 10.4](https://inferentialthinking.com/chapters/10/4/Random_Sampling_in_Python.html) of the textbook is a useful reference for this part."
   ]
  },
  {
   "cell_type": "markdown",
   "id": "7c494623",
   "metadata": {},
   "source": [
    "### Games with Jade\n",
    "Our friend Jade comes over and asks us to play a game with her. The game works like this: \n",
    "\n",
    "> We will draw randomly with replacement from a simplified 13 card deck with 4 face cards (A, J, Q, K), and 9 numbered cards (2, 3, 4, 5, 6, 7, 8, 9, 10). If we draw cards with replacement 13 times, and if the number of face cards is greater than or equal to 4, we lose.\n",
    "> \n",
    "> Otherwise, Jade loses.\n",
    "\n",
    "We play the game once and we lose, observing 8 total face cards. We are angry and accuse Jade of cheating! Jade is adamant, however, that the deck is fair.\n",
    "\n",
    "Jade's model claims that there is an equal chance of getting any of the cards (A, 2, 3, 4, 5, 6, 7, 8, 9, 10, J, Q, K), but we do not believe her. We believe that the deck is clearly rigged, with face cards (A, J, Q, K) being more likely than the numbered cards (2, 3, 4, 5, 6, 7, 8, 9, 10)."
   ]
  },
  {
   "cell_type": "markdown",
   "id": "9f568bfb",
   "metadata": {},
   "source": [
    "---\n",
    "\n",
    "**Question 1.** Assign `deck_model_probabilities` to a two-item array containing the chance of drawing a face card as the first element, and the chance of drawing a numbered card as the second element under Jade's model. Since we're working with probabilities, make sure your values are between 0 and 1. **(3 Points)**\n"
   ]
  },
  {
   "cell_type": "code",
   "execution_count": null,
   "id": "62a17b46",
   "metadata": {
    "tags": []
   },
   "outputs": [],
   "source": [
    "deck_model_probabilities = ...\n",
    "deck_model_probabilities"
   ]
  },
  {
   "cell_type": "code",
   "execution_count": null,
   "id": "8ff80e59",
   "metadata": {
    "deletable": false,
    "editable": false
   },
   "outputs": [],
   "source": [
    "grader.check(\"q4_1\")"
   ]
  },
  {
   "cell_type": "markdown",
   "id": "d3f3c78f",
   "metadata": {},
   "source": [
    "--- \n",
    "\n",
    "**Question 2.** We believe Jade's model is incorrect. In particular, we believe there to be a *larger* chance of getting a face card. Which of the following statistics can we use during our simulation to test between the model and our alternative? Assign `statistic_choice` to the correct answer. **(3 Points)**\n",
    "\n",
    "1. The distance (absolute value) between the actual number of face cards in 13 draws and 4, the expected number of face cards in 13 draws\n",
    "2. The expected number of face cards in 13 draws\n",
    "3. The number of face cards we get in 13 draws\n"
   ]
  },
  {
   "cell_type": "code",
   "execution_count": null,
   "id": "69b61e9b",
   "metadata": {
    "tags": []
   },
   "outputs": [],
   "source": [
    "statistic_choice = ...\n",
    "statistic_choice"
   ]
  },
  {
   "cell_type": "code",
   "execution_count": null,
   "id": "350cab3b",
   "metadata": {
    "deletable": false,
    "editable": false
   },
   "outputs": [],
   "source": [
    "grader.check(\"q4_2\")"
   ]
  },
  {
   "cell_type": "markdown",
   "id": "ba30a330",
   "metadata": {},
   "source": [
    "---\n",
    "\n",
    "**Question 3.** Define the function `deck_simulation_and_statistic`, which, given a sample size and an array of model proportions (like the one you created in Question 1), returns the **number of face cards** in one simulation of drawing cards under the model specified in `model_proportions`. **(5 Points)**\n",
    "\n",
    "*Hint:* Think about how you can use the function `sample_proportions`. \n"
   ]
  },
  {
   "cell_type": "code",
   "execution_count": null,
   "id": "a185e46c",
   "metadata": {
    "tags": []
   },
   "outputs": [],
   "source": [
    "def deck_simulation_and_statistic(sample_size, model_proportions):\n",
    "    ...\n",
    "\n",
    "deck_simulation_and_statistic(13, deck_model_probabilities)"
   ]
  },
  {
   "cell_type": "code",
   "execution_count": null,
   "id": "357fc044",
   "metadata": {
    "deletable": false,
    "editable": false
   },
   "outputs": [],
   "source": [
    "grader.check(\"q4_3\")"
   ]
  },
  {
   "cell_type": "markdown",
   "id": "aecf79b2",
   "metadata": {},
   "source": [
    "---\n",
    "\n",
    "**Question 4.** Use your function from above to simulate the drawing of 13 cards 5000 times under the proportions that you specified in Question 1. Keep track of all of your statistics in `deck_statistics`. **(5 Points)**\n"
   ]
  },
  {
   "cell_type": "code",
   "execution_count": null,
   "id": "413564a2",
   "metadata": {
    "tags": []
   },
   "outputs": [],
   "source": [
    "repetitions = 5000 \n",
    "...\n",
    "\n",
    "deck_statistics"
   ]
  },
  {
   "cell_type": "code",
   "execution_count": null,
   "id": "cb62d8ef",
   "metadata": {
    "deletable": false,
    "editable": false
   },
   "outputs": [],
   "source": [
    "grader.check(\"q4_4\")"
   ]
  },
  {
   "cell_type": "markdown",
   "id": "d05e03ab",
   "metadata": {},
   "source": [
    "Let’s take a look at the distribution of simulated statistics."
   ]
  },
  {
   "cell_type": "code",
   "execution_count": null,
   "id": "da67d158",
   "metadata": {},
   "outputs": [],
   "source": [
    "# Draw a distribution of statistics \n",
    "Table().with_column('Deck Statistics', deck_statistics).hist()"
   ]
  },
  {
   "cell_type": "markdown",
   "id": "06e18b6c",
   "metadata": {},
   "source": [
    "<!-- BEGIN QUESTION -->\n",
    "\n",
    "---\n",
    "\n",
    "**Question 5.** Given your observed value, do you believe that Jade's model is reasonable, or is our alternative (that our deck is rigged) more likely? Explain your answer using the histogram of statistics simulated using Jade's model (produced above). **(4 Points)**\n"
   ]
  },
  {
   "cell_type": "markdown",
   "id": "99c7342d",
   "metadata": {},
   "source": [
    "_Type your answer here, replacing this text._"
   ]
  },
  {
   "attachments": {},
   "cell_type": "markdown",
   "id": "009dbe46",
   "metadata": {},
   "source": [
    "<!-- END QUESTION -->\n",
    "\n",
    "You're done with Homework 6!  \n",
    "\n",
    "**Important submission steps:** \n",
    "1. Run the tests and verify that they all pass.\n",
    "2. Choose **Save Notebook** from the **File** menu, then **run the final cell**. \n",
    "3. Click the link to download the zip file.\n",
    "4. Go to [Gradescope](https://www.gradescope.com/courses/703847) and submit the zip file to the corresponding assignment. The name of this assignment is \"HW 06 Autograder\". \n",
    "\n",
    "**It is your responsibility to make sure your work is saved before running the last cell.**"
   ]
  },
  {
   "attachments": {},
   "cell_type": "markdown",
   "id": "028f942b",
   "metadata": {},
   "source": [
    "## Pets of Data 8\n",
    "**Cookie** says congrats on finishing HW6!\n",
    "\n",
    "<img src=\"./cookie.jpeg\" width=\"40%\" alt=\"Two quakers resting\"/>"
   ]
  },
  {
   "cell_type": "markdown",
   "id": "6893d129",
   "metadata": {},
   "source": [
    "## Submission\n",
    "\n",
    "Below, you will see two cells. Running the first cell will automatically generate a PDF of all questions that need to be manually graded, and running the second cell will automatically generate a zip with your autograded answers. You are responsible for submitting both the coding portion (the zip) and the written portion (the PDF) to their respective Gradescope portals. **Please save before exporting!**\n",
    "\n",
    "> **Important: You must correctly assign the pages of your PDF after you submit to the correct gradescope assignment. If your pages are not correctly assigned and/or not in the correct PDF format by the deadline, we reserve the right to award no points for your written work.**\n",
    "\n",
    "If there are issues with automatically generating the PDF in the first cell, you can try downloading the notebook as a PDF by colicking on `File -> Save and Export Notebook As... -> PDF`. If that doesn't work either, you can manually take screenshots of your answers to the manually graded questions and submit those. Either way, **you are responsible for ensuring your submision follows our requirements, we will NOT be granting regrade requests for submissions that don't follow instructions.**\n",
    "\n",
    "**You must submit the PDF generated via one of these methods, we will not accept screenshots or Word documents.**"
   ]
  },
  {
   "cell_type": "code",
   "execution_count": null,
   "id": "ce528d8f",
   "metadata": {},
   "outputs": [],
   "source": [
    "from otter.export import export_notebook\n",
    "from os import path\n",
    "from IPython.display import display, HTML\n",
    "name = 'hw06'\n",
    "export_notebook(f\"{name}.ipynb\", filtering=True, pagebreaks=True)\n",
    "if(path.exists(f'{name}.pdf')):\n",
    "    display(HTML(f\"Download your PDF <a href='{name}.pdf' download>here</a>.\"))\n",
    "else:\n",
    "    print(\"\\n Pdf generation failed, please try the other methods described above\")"
   ]
  },
  {
   "cell_type": "markdown",
   "id": "108028fc",
   "metadata": {
    "deletable": false,
    "editable": false
   },
   "source": [
    "## Submission\n",
    "\n",
    "Make sure you have run all cells in your notebook in order before running the cell below, so that all images/graphs appear in the output. The cell below will generate a zip file for you to submit. **Please save before exporting!**"
   ]
  },
  {
   "cell_type": "code",
   "execution_count": null,
   "id": "94824e6e",
   "metadata": {
    "deletable": false,
    "editable": false
   },
   "outputs": [
    {
     "name": "stderr",
     "output_type": "stream",
     "text": [
      "c:\\Users\\Luong\\AppData\\Local\\Programs\\Python\\Python311\\Lib\\site-packages\\otter\\check\\notebook.py:493: UserWarning: Could not locate a PDF to include\n",
      "  warnings.warn(\"Could not locate a PDF to include\")\n"
     ]
    },
    {
     "ename": "UnicodeDecodeError",
     "evalue": "'charmap' codec can't decode byte 0x8d in position 43155: character maps to <undefined>",
     "output_type": "error",
     "traceback": [
      "\u001b[1;31m---------------------------------------------------------------------------\u001b[0m",
      "\u001b[1;31mUnicodeDecodeError\u001b[0m                        Traceback (most recent call last)",
      "Cell \u001b[1;32mIn[43], line 2\u001b[0m\n\u001b[0;32m      1\u001b[0m \u001b[38;5;66;03m# Save your notebook first, then run this cell to export your submission.\u001b[39;00m\n\u001b[1;32m----> 2\u001b[0m \u001b[43mgrader\u001b[49m\u001b[38;5;241;43m.\u001b[39;49m\u001b[43mexport\u001b[49m\u001b[43m(\u001b[49m\u001b[43mpdf\u001b[49m\u001b[38;5;241;43m=\u001b[39;49m\u001b[38;5;28;43;01mTrue\u001b[39;49;00m\u001b[43m,\u001b[49m\u001b[43m \u001b[49m\u001b[43mrun_tests\u001b[49m\u001b[38;5;241;43m=\u001b[39;49m\u001b[38;5;28;43;01mTrue\u001b[39;49;00m\u001b[43m)\u001b[49m\n",
      "File \u001b[1;32mc:\\Users\\Luong\\AppData\\Local\\Programs\\Python\\Python311\\Lib\\site-packages\\otter\\check\\utils.py:206\u001b[0m, in \u001b[0;36mgrading_mode_disabled\u001b[1;34m(wrapped, self, args, kwargs)\u001b[0m\n\u001b[0;32m    204\u001b[0m \u001b[38;5;28;01mif\u001b[39;00m \u001b[38;5;28mtype\u001b[39m(\u001b[38;5;28mself\u001b[39m)\u001b[38;5;241m.\u001b[39m_grading_mode:\n\u001b[0;32m    205\u001b[0m     \u001b[38;5;28;01mreturn\u001b[39;00m\n\u001b[1;32m--> 206\u001b[0m \u001b[38;5;28;01mreturn\u001b[39;00m \u001b[43mwrapped\u001b[49m\u001b[43m(\u001b[49m\u001b[38;5;241;43m*\u001b[39;49m\u001b[43margs\u001b[49m\u001b[43m,\u001b[49m\u001b[43m \u001b[49m\u001b[38;5;241;43m*\u001b[39;49m\u001b[38;5;241;43m*\u001b[39;49m\u001b[43mkwargs\u001b[49m\u001b[43m)\u001b[49m\n",
      "File \u001b[1;32mc:\\Users\\Luong\\AppData\\Local\\Programs\\Python\\Python311\\Lib\\site-packages\\otter\\check\\utils.py:188\u001b[0m, in \u001b[0;36mincompatible_with.<locals>.incompatible\u001b[1;34m(wrapped, self, args, kwargs)\u001b[0m\n\u001b[0;32m    186\u001b[0m     \u001b[38;5;28;01melse\u001b[39;00m:\n\u001b[0;32m    187\u001b[0m         \u001b[38;5;28;01mreturn\u001b[39;00m\n\u001b[1;32m--> 188\u001b[0m \u001b[38;5;28;01mreturn\u001b[39;00m \u001b[43mwrapped\u001b[49m\u001b[43m(\u001b[49m\u001b[38;5;241;43m*\u001b[39;49m\u001b[43margs\u001b[49m\u001b[43m,\u001b[49m\u001b[43m \u001b[49m\u001b[38;5;241;43m*\u001b[39;49m\u001b[38;5;241;43m*\u001b[39;49m\u001b[43mkwargs\u001b[49m\u001b[43m)\u001b[49m\n",
      "File \u001b[1;32mc:\\Users\\Luong\\AppData\\Local\\Programs\\Python\\Python311\\Lib\\site-packages\\otter\\check\\utils.py:242\u001b[0m, in \u001b[0;36mlogs_event.<locals>.event_logger\u001b[1;34m(wrapped, self, args, kwargs)\u001b[0m\n\u001b[0;32m    240\u001b[0m \u001b[38;5;28;01mexcept\u001b[39;00m \u001b[38;5;167;01mException\u001b[39;00m \u001b[38;5;28;01mas\u001b[39;00m e:\n\u001b[0;32m    241\u001b[0m     \u001b[38;5;28mself\u001b[39m\u001b[38;5;241m.\u001b[39m_log_event(event_type, success\u001b[38;5;241m=\u001b[39m\u001b[38;5;28;01mFalse\u001b[39;00m, error\u001b[38;5;241m=\u001b[39me)\n\u001b[1;32m--> 242\u001b[0m     \u001b[38;5;28;01mraise\u001b[39;00m e\n\u001b[0;32m    244\u001b[0m \u001b[38;5;28;01mif\u001b[39;00m ret \u001b[38;5;129;01mis\u001b[39;00m \u001b[38;5;28;01mNone\u001b[39;00m:\n\u001b[0;32m    245\u001b[0m     ret \u001b[38;5;241m=\u001b[39m LoggedEventReturnValue(\u001b[38;5;28;01mNone\u001b[39;00m)\n",
      "File \u001b[1;32mc:\\Users\\Luong\\AppData\\Local\\Programs\\Python\\Python311\\Lib\\site-packages\\otter\\check\\utils.py:238\u001b[0m, in \u001b[0;36mlogs_event.<locals>.event_logger\u001b[1;34m(wrapped, self, args, kwargs)\u001b[0m\n\u001b[0;32m    233\u001b[0m \u001b[38;5;250m\u001b[39m\u001b[38;5;124;03m\"\"\"\u001b[39;00m\n\u001b[0;32m    234\u001b[0m \u001b[38;5;124;03mRuns a method, catching any errors and logging the call. Returns the unwrapped return value\u001b[39;00m\n\u001b[0;32m    235\u001b[0m \u001b[38;5;124;03mof the wrapped function.\u001b[39;00m\n\u001b[0;32m    236\u001b[0m \u001b[38;5;124;03m\"\"\"\u001b[39;00m\n\u001b[0;32m    237\u001b[0m \u001b[38;5;28;01mtry\u001b[39;00m:\n\u001b[1;32m--> 238\u001b[0m     ret: Optional[LoggedEventReturnValue[T]] \u001b[38;5;241m=\u001b[39m \u001b[43mwrapped\u001b[49m\u001b[43m(\u001b[49m\u001b[38;5;241;43m*\u001b[39;49m\u001b[43margs\u001b[49m\u001b[43m,\u001b[49m\u001b[43m \u001b[49m\u001b[38;5;241;43m*\u001b[39;49m\u001b[38;5;241;43m*\u001b[39;49m\u001b[43mkwargs\u001b[49m\u001b[43m)\u001b[49m\n\u001b[0;32m    240\u001b[0m \u001b[38;5;28;01mexcept\u001b[39;00m \u001b[38;5;167;01mException\u001b[39;00m \u001b[38;5;28;01mas\u001b[39;00m e:\n\u001b[0;32m    241\u001b[0m     \u001b[38;5;28mself\u001b[39m\u001b[38;5;241m.\u001b[39m_log_event(event_type, success\u001b[38;5;241m=\u001b[39m\u001b[38;5;28;01mFalse\u001b[39;00m, error\u001b[38;5;241m=\u001b[39me)\n",
      "File \u001b[1;32mc:\\Users\\Luong\\AppData\\Local\\Programs\\Python\\Python311\\Lib\\site-packages\\otter\\check\\notebook.py:550\u001b[0m, in \u001b[0;36mNotebook.export\u001b[1;34m(self, nb_path, export_path, pdf, filtering, pagebreaks, files, display_link, force_save, run_tests, ignore_log)\u001b[0m\n\u001b[0;32m    548\u001b[0m \u001b[38;5;28;01mif\u001b[39;00m pdf_created \u001b[38;5;129;01mor\u001b[39;00m \u001b[38;5;129;01mnot\u001b[39;00m \u001b[38;5;28mself\u001b[39m\u001b[38;5;241m.\u001b[39m_nbmeta_config\u001b[38;5;241m.\u001b[39mrequire_no_pdf_confirmation:\n\u001b[0;32m    549\u001b[0m     \u001b[38;5;28;01mif\u001b[39;00m pdf_error \u001b[38;5;129;01mis\u001b[39;00m \u001b[38;5;129;01mnot\u001b[39;00m \u001b[38;5;28;01mNone\u001b[39;00m:\n\u001b[1;32m--> 550\u001b[0m         \u001b[38;5;28;01mraise\u001b[39;00m pdf_error\n\u001b[0;32m    551\u001b[0m     continue_export()\n\u001b[0;32m    552\u001b[0m \u001b[38;5;28;01melse\u001b[39;00m:\n",
      "File \u001b[1;32mc:\\Users\\Luong\\AppData\\Local\\Programs\\Python\\Python311\\Lib\\site-packages\\otter\\check\\notebook.py:484\u001b[0m, in \u001b[0;36mNotebook.export\u001b[1;34m(self, nb_path, export_path, pdf, filtering, pagebreaks, files, display_link, force_save, run_tests, ignore_log)\u001b[0m\n\u001b[0;32m    482\u001b[0m \u001b[38;5;28;01mif\u001b[39;00m pdf:\n\u001b[0;32m    483\u001b[0m     \u001b[38;5;28;01mtry\u001b[39;00m:\n\u001b[1;32m--> 484\u001b[0m         pdf_path \u001b[38;5;241m=\u001b[39m \u001b[43mexport_notebook\u001b[49m\u001b[43m(\u001b[49m\u001b[43mnb_path\u001b[49m\u001b[43m,\u001b[49m\u001b[43m \u001b[49m\u001b[43mfiltering\u001b[49m\u001b[38;5;241;43m=\u001b[39;49m\u001b[43mfiltering\u001b[49m\u001b[43m,\u001b[49m\u001b[43m \u001b[49m\u001b[43mpagebreaks\u001b[49m\u001b[38;5;241;43m=\u001b[39;49m\u001b[43mpagebreaks\u001b[49m\u001b[43m)\u001b[49m\n\u001b[0;32m    485\u001b[0m     \u001b[38;5;28;01mexcept\u001b[39;00m \u001b[38;5;167;01mException\u001b[39;00m \u001b[38;5;28;01mas\u001b[39;00m e:\n\u001b[0;32m    486\u001b[0m         pdf_error \u001b[38;5;241m=\u001b[39m e\n",
      "File \u001b[1;32mc:\\Users\\Luong\\AppData\\Local\\Programs\\Python\\Python311\\Lib\\site-packages\\otter\\export\\__init__.py:43\u001b[0m, in \u001b[0;36mexport_notebook\u001b[1;34m(nb_path, dest, exporter_type, **kwargs)\u001b[0m\n\u001b[0;32m     40\u001b[0m     pdf_name \u001b[38;5;241m=\u001b[39m os\u001b[38;5;241m.\u001b[39mpath\u001b[38;5;241m.\u001b[39msplitext(nb_path)[\u001b[38;5;241m0\u001b[39m] \u001b[38;5;241m+\u001b[39m \u001b[38;5;124m\"\u001b[39m\u001b[38;5;124m.pdf\u001b[39m\u001b[38;5;124m\"\u001b[39m\n\u001b[0;32m     42\u001b[0m Exporter \u001b[38;5;241m=\u001b[39m get_exporter(exporter_type\u001b[38;5;241m=\u001b[39mexporter_type)\n\u001b[1;32m---> 43\u001b[0m \u001b[43mExporter\u001b[49m\u001b[38;5;241;43m.\u001b[39;49m\u001b[43mconvert_notebook\u001b[49m\u001b[43m(\u001b[49m\u001b[43mnb_path\u001b[49m\u001b[43m,\u001b[49m\u001b[43m \u001b[49m\u001b[43mpdf_name\u001b[49m\u001b[43m,\u001b[49m\u001b[43m \u001b[49m\u001b[38;5;241;43m*\u001b[39;49m\u001b[38;5;241;43m*\u001b[39;49m\u001b[43mkwargs\u001b[49m\u001b[43m)\u001b[49m\n\u001b[0;32m     45\u001b[0m \u001b[38;5;28;01mreturn\u001b[39;00m pdf_name\n",
      "File \u001b[1;32mc:\\Users\\Luong\\AppData\\Local\\Programs\\Python\\Python311\\Lib\\site-packages\\otter\\export\\exporters\\via_latex.py:52\u001b[0m, in \u001b[0;36mPDFViaLatexExporter.convert_notebook\u001b[1;34m(cls, nb_path, dest, xecjk, **kwargs)\u001b[0m\n\u001b[0;32m     49\u001b[0m \u001b[38;5;28;01mif\u001b[39;00m xecjk:\n\u001b[0;32m     50\u001b[0m     options[\u001b[38;5;124m\"\u001b[39m\u001b[38;5;124mtemplate\u001b[39m\u001b[38;5;124m\"\u001b[39m] \u001b[38;5;241m=\u001b[39m \u001b[38;5;124m\"\u001b[39m\u001b[38;5;124mvia_latex_xecjk\u001b[39m\u001b[38;5;124m\"\u001b[39m\n\u001b[1;32m---> 52\u001b[0m nb \u001b[38;5;241m=\u001b[39m \u001b[38;5;28;43mcls\u001b[39;49m\u001b[38;5;241;43m.\u001b[39;49m\u001b[43mload_notebook\u001b[49m\u001b[43m(\u001b[49m\n\u001b[0;32m     53\u001b[0m \u001b[43m    \u001b[49m\u001b[43mnb_path\u001b[49m\u001b[43m,\u001b[49m\u001b[43m \u001b[49m\u001b[43mfiltering\u001b[49m\u001b[38;5;241;43m=\u001b[39;49m\u001b[43moptions\u001b[49m\u001b[43m[\u001b[49m\u001b[38;5;124;43m\"\u001b[39;49m\u001b[38;5;124;43mfiltering\u001b[39;49m\u001b[38;5;124;43m\"\u001b[39;49m\u001b[43m]\u001b[49m\u001b[43m,\u001b[49m\u001b[43m \u001b[49m\u001b[43mpagebreaks\u001b[49m\u001b[38;5;241;43m=\u001b[39;49m\u001b[43moptions\u001b[49m\u001b[43m[\u001b[49m\u001b[38;5;124;43m\"\u001b[39;49m\u001b[38;5;124;43mpagebreaks\u001b[39;49m\u001b[38;5;124;43m\"\u001b[39;49m\u001b[43m]\u001b[49m\n\u001b[0;32m     54\u001b[0m \u001b[43m\u001b[49m\u001b[43m)\u001b[49m\n\u001b[0;32m     56\u001b[0m nbconvert\u001b[38;5;241m.\u001b[39mTemplateExporter\u001b[38;5;241m.\u001b[39mextra_template_basedirs \u001b[38;5;241m=\u001b[39m [\u001b[38;5;28mstr\u001b[39m(TEMPLATE_DIR)]\n\u001b[0;32m     57\u001b[0m orig_template_name \u001b[38;5;241m=\u001b[39m nbconvert\u001b[38;5;241m.\u001b[39mTemplateExporter\u001b[38;5;241m.\u001b[39mtemplate_name\n",
      "File \u001b[1;32mc:\\Users\\Luong\\AppData\\Local\\Programs\\Python\\Python311\\Lib\\site-packages\\otter\\export\\exporters\\base_exporter.py:72\u001b[0m, in \u001b[0;36mBaseExporter.load_notebook\u001b[1;34m(cls, nb_path, filtering, pagebreaks)\u001b[0m\n\u001b[0;32m     58\u001b[0m \u001b[38;5;250m\u001b[39m\u001b[38;5;124;03m\"\"\"\u001b[39;00m\n\u001b[0;32m     59\u001b[0m \u001b[38;5;124;03mLoads notebook at ``nb_path`` with nbformat and returns the parsed notebookly filtered\u001b[39;00m\n\u001b[0;32m     60\u001b[0m \u001b[38;5;124;03mand with pagebreak metadata hidden in HTML comments.\u001b[39;00m\n\u001b[1;32m   (...)\u001b[0m\n\u001b[0;32m     69\u001b[0m \u001b[38;5;124;03m    ``nbformat.NotebookNode``: the parsed and (optionally) filtered notebook\u001b[39;00m\n\u001b[0;32m     70\u001b[0m \u001b[38;5;124;03m\"\"\"\u001b[39;00m\n\u001b[0;32m     71\u001b[0m \u001b[38;5;28;01mwith\u001b[39;00m \u001b[38;5;28mopen\u001b[39m(nb_path) \u001b[38;5;28;01mas\u001b[39;00m f:\n\u001b[1;32m---> 72\u001b[0m     notebook \u001b[38;5;241m=\u001b[39m \u001b[43mnbformat\u001b[49m\u001b[38;5;241;43m.\u001b[39;49m\u001b[43mread\u001b[49m\u001b[43m(\u001b[49m\u001b[43mf\u001b[49m\u001b[43m,\u001b[49m\u001b[43m \u001b[49m\u001b[43mas_version\u001b[49m\u001b[38;5;241;43m=\u001b[39;49m\u001b[43mNBFORMAT_VERSION\u001b[49m\u001b[43m)\u001b[49m\n\u001b[0;32m     73\u001b[0m \u001b[38;5;28;01mif\u001b[39;00m filtering:\n\u001b[0;32m     74\u001b[0m     notebook \u001b[38;5;241m=\u001b[39m \u001b[38;5;28mcls\u001b[39m\u001b[38;5;241m.\u001b[39mfilter_cells(notebook, pagebreaks\u001b[38;5;241m=\u001b[39mpagebreaks)\n",
      "File \u001b[1;32mc:\\Users\\Luong\\AppData\\Local\\Programs\\Python\\Python311\\Lib\\site-packages\\nbformat\\__init__.py:169\u001b[0m, in \u001b[0;36mread\u001b[1;34m(fp, as_version, capture_validation_error, **kwargs)\u001b[0m\n\u001b[0;32m    141\u001b[0m \u001b[38;5;250m\u001b[39m\u001b[38;5;124;03m\"\"\"Read a notebook from a file as a NotebookNode of the given version.\u001b[39;00m\n\u001b[0;32m    142\u001b[0m \n\u001b[0;32m    143\u001b[0m \u001b[38;5;124;03mThe string can contain a notebook of any version.\u001b[39;00m\n\u001b[1;32m   (...)\u001b[0m\n\u001b[0;32m    165\u001b[0m \u001b[38;5;124;03m    The notebook that was read.\u001b[39;00m\n\u001b[0;32m    166\u001b[0m \u001b[38;5;124;03m\"\"\"\u001b[39;00m\n\u001b[0;32m    168\u001b[0m \u001b[38;5;28;01mtry\u001b[39;00m:\n\u001b[1;32m--> 169\u001b[0m     buf \u001b[38;5;241m=\u001b[39m \u001b[43mfp\u001b[49m\u001b[38;5;241;43m.\u001b[39;49m\u001b[43mread\u001b[49m\u001b[43m(\u001b[49m\u001b[43m)\u001b[49m\n\u001b[0;32m    170\u001b[0m \u001b[38;5;28;01mexcept\u001b[39;00m \u001b[38;5;167;01mAttributeError\u001b[39;00m:\n\u001b[0;32m    171\u001b[0m     \u001b[38;5;28;01mwith\u001b[39;00m \u001b[38;5;28mopen\u001b[39m(fp, encoding\u001b[38;5;241m=\u001b[39m\u001b[38;5;124m\"\u001b[39m\u001b[38;5;124mutf8\u001b[39m\u001b[38;5;124m\"\u001b[39m) \u001b[38;5;28;01mas\u001b[39;00m f:  \u001b[38;5;66;03m# noqa: PTH123\u001b[39;00m\n",
      "File \u001b[1;32mc:\\Users\\Luong\\AppData\\Local\\Programs\\Python\\Python311\\Lib\\encodings\\cp1252.py:23\u001b[0m, in \u001b[0;36mIncrementalDecoder.decode\u001b[1;34m(self, input, final)\u001b[0m\n\u001b[0;32m     22\u001b[0m \u001b[38;5;28;01mdef\u001b[39;00m \u001b[38;5;21mdecode\u001b[39m(\u001b[38;5;28mself\u001b[39m, \u001b[38;5;28minput\u001b[39m, final\u001b[38;5;241m=\u001b[39m\u001b[38;5;28;01mFalse\u001b[39;00m):\n\u001b[1;32m---> 23\u001b[0m     \u001b[38;5;28;01mreturn\u001b[39;00m codecs\u001b[38;5;241m.\u001b[39mcharmap_decode(\u001b[38;5;28minput\u001b[39m,\u001b[38;5;28mself\u001b[39m\u001b[38;5;241m.\u001b[39merrors,decoding_table)[\u001b[38;5;241m0\u001b[39m]\n",
      "\u001b[1;31mUnicodeDecodeError\u001b[0m: 'charmap' codec can't decode byte 0x8d in position 43155: character maps to <undefined>"
     ]
    }
   ],
   "source": [
    "# Save your notebook first, then run this cell to export your submission.\n",
    "grader.export(pdf=True, run_tests=True)"
   ]
  },
  {
   "cell_type": "markdown",
   "id": "6b14d041",
   "metadata": {},
   "source": [
    " "
   ]
  }
 ],
 "metadata": {
  "kernelspec": {
   "display_name": "Python 3",
   "language": "python",
   "name": "python3"
  },
  "language_info": {
   "codemirror_mode": {
    "name": "ipython",
    "version": 3
   },
   "file_extension": ".py",
   "mimetype": "text/x-python",
   "name": "python",
   "nbconvert_exporter": "python",
   "pygments_lexer": "ipython3",
   "version": "3.11.6"
  },
  "otter": {
   "OK_FORMAT": true,
   "tests": {
    "q1_1": {
     "name": "q1_1",
     "points": [
      2
     ],
     "suites": [
      {
       "cases": [
        {
         "code": ">>> dollar_bet_on_red('red') == 1\nTrue",
         "hidden": false,
         "locked": false
        }
       ],
       "scored": true,
       "setup": "",
       "teardown": "",
       "type": "doctest"
      }
     ]
    },
    "q1_10": {
     "name": "q1_10",
     "points": [
      0,
      0,
      0
     ],
     "suites": [
      {
       "cases": [
        {
         "code": ">>> # Make sure histogram_statements is an array.\n>>> import numpy as np\n>>> type(histogram_statements) == np.ndarray\nTrue",
         "hidden": false,
         "locked": false
        },
        {
         "code": ">>> # Make sure you have set histogram_statements to an array with at least 1 number\n>>> 1 <= histogram_statements.item(0) <= 3\nTrue",
         "hidden": false,
         "locked": false
        },
        {
         "code": ">>> # make sure all elements are between 1 and 3\n>>> all(histogram_statements <= 3) and all(histogram_statements >= 1)\nTrue",
         "hidden": false,
         "locked": false
        }
       ],
       "scored": true,
       "setup": "",
       "teardown": "",
       "type": "doctest"
      }
     ]
    },
    "q1_2": {
     "name": "q1_2",
     "points": [
      0
     ],
     "suites": [
      {
       "cases": [
        {
         "code": ">>> # Make sure your column names are correct\n>>> wheel.labels[2] == \"Winnings: Red\"\nTrue",
         "hidden": false,
         "locked": false
        }
       ],
       "scored": true,
       "setup": "",
       "teardown": "",
       "type": "doctest"
      }
     ]
    },
    "q1_3": {
     "name": "q1_3",
     "points": [
      0,
      0
     ],
     "suites": [
      {
       "cases": [
        {
         "code": ">>> # If this test isn't passing, try running the cells from the top.\n>>> set([\"Pocket\", \"Color\", \"Winnings: Red\"]) == set(ten_bets.labels)\nTrue",
         "hidden": false,
         "locked": false
        },
        {
         "code": ">>> # Checks that ten_bets doesn't have the same number of rows as wheel\n>>> ten_bets.num_rows != wheel.num_rows\nTrue",
         "hidden": false,
         "locked": false
        }
       ],
       "scored": true,
       "setup": "",
       "teardown": "",
       "type": "doctest"
      }
     ]
    },
    "q1_4": {
     "name": "q1_4",
     "points": [
      0
     ],
     "suites": [
      {
       "cases": [
        {
         "code": ">>> net_gain_red(10000) != net_gain_red(10000)\nTrue",
         "hidden": false,
         "locked": false
        }
       ],
       "scored": true,
       "setup": "",
       "teardown": "",
       "type": "doctest"
      }
     ]
    },
    "q1_5": {
     "name": "q1_5",
     "points": [
      0
     ],
     "suites": [
      {
       "cases": [
        {
         "code": ">>> # Make sure simulated_gains_red is an array.\n>>> import numpy as np\n>>> type(simulated_gains_red) == np.ndarray\nTrue",
         "hidden": false,
         "locked": false
        }
       ],
       "scored": true,
       "setup": "",
       "teardown": "",
       "type": "doctest"
      }
     ]
    },
    "q1_6": {
     "name": "q1_6",
     "points": [
      0
     ],
     "suites": [
      {
       "cases": [
        {
         "code": ">>> type(loss_more_than_50) == bool\nTrue",
         "hidden": false,
         "locked": false
        }
       ],
       "scored": true,
       "setup": "",
       "teardown": "",
       "type": "doctest"
      }
     ]
    },
    "q1_7": {
     "name": "q1_7",
     "points": [
      2
     ],
     "suites": [
      {
       "cases": [
        {
         "code": ">>> dollar_bet_on_split('5') == 17\nTrue",
         "hidden": false,
         "locked": false
        }
       ],
       "scored": true,
       "setup": "",
       "teardown": "",
       "type": "doctest"
      }
     ]
    },
    "q1_8": {
     "name": "q1_8",
     "points": [
      0
     ],
     "suites": [
      {
       "cases": [
        {
         "code": ">>> # Make sure your column names are correct\n>>> wheel.labels[3] == \"Winnings: Split\"\nTrue",
         "hidden": false,
         "locked": false
        }
       ],
       "scored": true,
       "setup": "",
       "teardown": "",
       "type": "doctest"
      }
     ]
    },
    "q1_9": {
     "name": "q1_9",
     "points": [
      0
     ],
     "suites": [
      {
       "cases": [
        {
         "code": ">>> # Make sure simulated_gains_split is an array.\n>>> import numpy as np\n>>> type(simulated_gains_split) == np.ndarray\nTrue",
         "hidden": false,
         "locked": false
        }
       ],
       "scored": true,
       "setup": "",
       "teardown": "",
       "type": "doctest"
      }
     ]
    },
    "q2_1": {
     "name": "q2_1",
     "points": [
      0
     ],
     "suites": [
      {
       "cases": [
        {
         "code": ">>> # Your probability output should be a value between 0 and 1.\n>>> 0 < first_three_black < 1\nTrue",
         "hidden": false,
         "locked": false
        }
       ],
       "scored": true,
       "setup": "",
       "teardown": "",
       "type": "doctest"
      }
     ]
    },
    "q2_2": {
     "name": "q2_2",
     "points": [
      0
     ],
     "suites": [
      {
       "cases": [
        {
         "code": ">>> # Your probability output should be a value between 0 and 1.\n>>> 0 < no_green < 1\nTrue",
         "hidden": false,
         "locked": false
        }
       ],
       "scored": true,
       "setup": "",
       "teardown": "",
       "type": "doctest"
      }
     ]
    },
    "q2_3": {
     "name": "q2_3",
     "points": [
      0
     ],
     "suites": [
      {
       "cases": [
        {
         "code": ">>> # Your probability output should be a value between 0 and 1.\n>>> 0 < at_least_one_green < 1\nTrue",
         "hidden": false,
         "locked": false
        }
       ],
       "scored": true,
       "setup": "",
       "teardown": "",
       "type": "doctest"
      }
     ]
    },
    "q2_4": {
     "name": "q2_4",
     "points": [
      0
     ],
     "suites": [
      {
       "cases": [
        {
         "code": ">>> # Your probability output should be a value between 0 and 1.\n>>> 0 < lone_winners < 1\nTrue",
         "hidden": false,
         "locked": false
        }
       ],
       "scored": true,
       "setup": "",
       "teardown": "",
       "type": "doctest"
      }
     ]
    },
    "q2_5": {
     "name": "q2_5",
     "points": [
      0,
      0
     ],
     "suites": [
      {
       "cases": [
        {
         "code": ">>> # Make sure you are setting toys_option to an int\n>>> type(toys_option) == int\nTrue",
         "hidden": false,
         "locked": false
        },
        {
         "code": ">>> # toys_option should be assigned to either 1, 2 or 3.\n>>> 1 <= toys_option <= 3\nTrue",
         "hidden": false,
         "locked": false
        }
       ],
       "scored": true,
       "setup": "",
       "teardown": "",
       "type": "doctest"
      }
     ]
    },
    "q2_6": {
     "name": "q2_6",
     "points": [
      0,
      0
     ],
     "suites": [
      {
       "cases": [
        {
         "code": ">>> # Make sure you are setting lottery_option to an int\n>>> type(lottery_option) == int\nTrue",
         "hidden": false,
         "locked": false
        },
        {
         "code": ">>> # toys_option should be assigned to either 1, 2 or 3.\n>>> 1 <= lottery_option <= 3\nTrue",
         "hidden": false,
         "locked": false
        }
       ],
       "scored": true,
       "setup": "",
       "teardown": "",
       "type": "doctest"
      }
     ]
    },
    "q2_7": {
     "name": "q2_7",
     "points": [
      0,
      0
     ],
     "suites": [
      {
       "cases": [
        {
         "code": ">>> # Make sure you are setting coin_option to an int\n>>> type(coin_option) == int\nTrue",
         "hidden": false,
         "locked": false
        },
        {
         "code": ">>> 1 <= coin_option <= 3\nTrue",
         "hidden": false,
         "locked": false
        }
       ],
       "scored": true,
       "setup": "",
       "teardown": "",
       "type": "doctest"
      }
     ]
    },
    "q4_1": {
     "name": "q4_1",
     "points": [
      0,
      0,
      0
     ],
     "suites": [
      {
       "cases": [
        {
         "code": ">>> # Make sure deck_model_probabilities is an array.\n>>> type(deck_model_probabilities) == np.ndarray\nTrue",
         "hidden": false,
         "locked": false
        },
        {
         "code": ">>> # The array should have length 2\n>>> len(deck_model_probabilities) == 2\nTrue",
         "hidden": false,
         "locked": false
        },
        {
         "code": ">>> # The elements in the array should add up to 1.\n>>> sum(deck_model_probabilities) == 1\nTrue",
         "hidden": false,
         "locked": false
        }
       ],
       "scored": true,
       "setup": "",
       "teardown": "",
       "type": "doctest"
      }
     ]
    },
    "q4_2": {
     "name": "q4_2",
     "points": [
      0,
      0
     ],
     "suites": [
      {
       "cases": [
        {
         "code": ">>> # Make sure you are setting statistic_choice to an int\n>>> type(statistic_choice) == int\nTrue",
         "hidden": false,
         "locked": false
        },
        {
         "code": ">>> # statistic_choice should be assigned to either 1, 2 or 3.\n>>> 1 <= statistic_choice <= 3\nTrue",
         "hidden": false,
         "locked": false
        }
       ],
       "scored": true,
       "setup": "",
       "teardown": "",
       "type": "doctest"
      }
     ]
    },
    "q4_3": {
     "name": "q4_3",
     "points": [
      0,
      5
     ],
     "suites": [
      {
       "cases": [
        {
         "code": ">>> # Make sure to return the number of face cards, not a proportion\n>>> num_face = deck_simulation_and_statistic(13, deck_model_probabilities)\n>>> num_face % 1 == 0\nTrue",
         "hidden": false,
         "locked": false
        },
        {
         "code": ">>> # The statistic should be between 0 and 13 face cards for\n>>> # a sample size of 13\n>>> num_face = deck_simulation_and_statistic(13, deck_model_probabilities)\n>>> 0 <= num_face <= 13\nTrue",
         "hidden": false,
         "locked": false
        }
       ],
       "scored": true,
       "setup": "",
       "teardown": "",
       "type": "doctest"
      }
     ]
    },
    "q4_4": {
     "name": "q4_4",
     "points": [
      2,
      3
     ],
     "suites": [
      {
       "cases": [
        {
         "code": ">>> # There should be exactly as many elements in deck_statistics\n>>> # as the number 'repetitions'\n>>> len(deck_statistics) == repetitions\nTrue",
         "hidden": false,
         "locked": false
        },
        {
         "code": ">>> # Each element of deck_statistics should be between 0\n>>> # and 13 inclusive\n>>> all([0 <= k <= 13 for k in deck_statistics])\nTrue",
         "hidden": false,
         "locked": false
        }
       ],
       "scored": true,
       "setup": "",
       "teardown": "",
       "type": "doctest"
      }
     ]
    }
   }
  }
 },
 "nbformat": 4,
 "nbformat_minor": 5
}
